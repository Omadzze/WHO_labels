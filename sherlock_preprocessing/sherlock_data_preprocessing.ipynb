{
 "cells": [
  {
   "metadata": {
    "ExecuteTime": {
     "end_time": "2025-05-02T10:26:53.372380Z",
     "start_time": "2025-05-02T10:26:53.369050Z"
    }
   },
   "cell_type": "code",
   "source": [
    "import os\n",
    "import shutil\n",
    "\n",
    "from data_processing_sherlock import DataProcessingSherlock"
   ],
   "id": "a461f55749d807c0",
   "outputs": [],
   "execution_count": 14
  },
  {
   "metadata": {
    "ExecuteTime": {
     "end_time": "2025-05-02T10:26:53.897373Z",
     "start_time": "2025-05-02T10:26:53.891936Z"
    }
   },
   "cell_type": "code",
   "source": [
    "TABLE_FOLDER_PATH = \"../tables\"\n",
    "GROUND_TRUTH_PATH   = \"../gold/cta_gt.csv\"\n",
    "LANGUAGE_METADATA_PATH = \"../gold/language_metadata.csv\"\n",
    "OUTPUT_PATH = \"../sherlock_data_processing\""
   ],
   "id": "3d655ac713f8d1b7",
   "outputs": [],
   "execution_count": 15
  },
  {
   "cell_type": "code",
   "id": "initial_id",
   "metadata": {
    "collapsed": true,
    "ExecuteTime": {
     "end_time": "2025-05-02T10:26:54.496896Z",
     "start_time": "2025-05-02T10:26:54.448035Z"
    }
   },
   "source": [
    "data_processing_sherlock = DataProcessingSherlock()\n",
    "\n",
    "if os.path.exists(OUTPUT_PATH):\n",
    "    shutil.rmtree(OUTPUT_PATH)\n",
    "\n",
    "for filename in os.listdir(TABLE_FOLDER_PATH):\n",
    "    if not filename.lower().endswith(\".csv\"):\n",
    "        continue\n",
    "\n",
    "    table_csv_path = os.path.join(TABLE_FOLDER_PATH, filename)\n",
    "    table_name = filename  # matches the 'table_name' column in GT\n",
    "\n",
    "    try:\n",
    "        # Example usage:\n",
    "        data, labels = data_processing_sherlock.load_table_with_labels(\n",
    "            table_csv_path=TABLE_FOLDER_PATH + \"/\" + filename,\n",
    "            gt_csv_path   =GROUND_TRUTH_PATH,\n",
    "            table_name    =table_name\n",
    "        )\n",
    "\n",
    "        #cleaned_data = data_cleaning(data)\n",
    "\n",
    "        data_processing_sherlock.flatten_and_save(data, labels, OUTPUT_PATH, table_name, LANGUAGE_METADATA_PATH)\n",
    "\n",
    "        #print(f\"Processed {filename} -> {data_path}\")\n",
    "    except Exception as e:\n",
    "        print(f\"Skipping {filename}: {e}\")"
   ],
   "outputs": [],
   "execution_count": 16
  },
  {
   "metadata": {},
   "cell_type": "code",
   "outputs": [],
   "execution_count": null,
   "source": "",
   "id": "9441c6c862fb63bd"
  }
 ],
 "metadata": {
  "kernelspec": {
   "display_name": "Python 3",
   "language": "python",
   "name": "python3"
  },
  "language_info": {
   "codemirror_mode": {
    "name": "ipython",
    "version": 2
   },
   "file_extension": ".py",
   "mimetype": "text/x-python",
   "name": "python",
   "nbconvert_exporter": "python",
   "pygments_lexer": "ipython2",
   "version": "2.7.6"
  }
 },
 "nbformat": 4,
 "nbformat_minor": 5
}
