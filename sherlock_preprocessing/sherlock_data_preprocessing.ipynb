{
 "cells": [
  {
   "metadata": {
    "ExecuteTime": {
     "end_time": "2025-05-09T16:10:34.595314Z",
     "start_time": "2025-05-09T16:10:34.568368Z"
    }
   },
   "cell_type": "code",
   "source": [
    "%load_ext autoreload\n",
    "%autoreload 2"
   ],
   "id": "dd724b8549054d64",
   "outputs": [],
   "execution_count": 1
  },
  {
   "metadata": {
    "ExecuteTime": {
     "end_time": "2025-05-09T16:10:35.113358Z",
     "start_time": "2025-05-09T16:10:34.893889Z"
    }
   },
   "cell_type": "code",
   "source": [
    "import os\n",
    "import shutil\n",
    "\n",
    "from data_processing_sherlock import DataProcessingSherlock"
   ],
   "id": "a461f55749d807c0",
   "outputs": [],
   "execution_count": 2
  },
  {
   "metadata": {
    "ExecuteTime": {
     "end_time": "2025-05-09T16:10:35.222198Z",
     "start_time": "2025-05-09T16:10:35.214035Z"
    }
   },
   "cell_type": "code",
   "source": [
    "TABLE_FOLDER_PATH = \"../tables\"\n",
    "GROUND_TRUTH_PATH   = \"../gold/cta_gt.csv\"\n",
    "LANGUAGE_METADATA_PATH = \"../gold/language_metadata.csv\"\n",
    "OUTPUT_PATH = \"../sherlock_data_processing\""
   ],
   "id": "3d655ac713f8d1b7",
   "outputs": [],
   "execution_count": 3
  },
  {
   "metadata": {
    "ExecuteTime": {
     "end_time": "2025-05-09T16:10:35.710618Z",
     "start_time": "2025-05-09T16:10:35.696358Z"
    }
   },
   "cell_type": "code",
   "source": [
    "import numpy as np\n",
    "\n",
    "\n",
    "def data_cleaning(data):\n",
    "    \"\"\"\n",
    "    Clean the data in dataframes, removes hashes tha was broken during processing\n",
    "\n",
    "    :param data: dataframe to clean\n",
    "    :return: cleaned dataframe\n",
    "    \"\"\"\n",
    "\n",
    "    for col in data.select_dtypes(include=\"object\"):\n",
    "\n",
    "        # make a bool mask of rows where the cell contains 'x000D'\n",
    "        mask = data[col].str.contains(\"x000D\", na=False)\n",
    "        data.loc[mask, col] = np.nan\n",
    "\n",
    "    return data"
   ],
   "id": "3425da84158fa403",
   "outputs": [],
   "execution_count": 4
  },
  {
   "cell_type": "code",
   "id": "initial_id",
   "metadata": {
    "collapsed": true,
    "ExecuteTime": {
     "end_time": "2025-05-09T16:10:36.698250Z",
     "start_time": "2025-05-09T16:10:36.478044Z"
    }
   },
   "source": [
    "data_processing_sherlock = DataProcessingSherlock()\n",
    "\n",
    "if os.path.exists(OUTPUT_PATH):\n",
    "    shutil.rmtree(OUTPUT_PATH)\n",
    "\n",
    "for filename in os.listdir(TABLE_FOLDER_PATH):\n",
    "    if not filename.lower().endswith(\".csv\"):\n",
    "        continue\n",
    "\n",
    "    table_csv_path = os.path.join(TABLE_FOLDER_PATH, filename)\n",
    "    table_name = filename  # matches the 'table_name' column in GT\n",
    "\n",
    "    try:\n",
    "        # Example usage:\n",
    "        data, labels = data_processing_sherlock.load_table_with_labels(\n",
    "            table_csv_path=TABLE_FOLDER_PATH + \"/\" + filename,\n",
    "            gt_csv_path   =GROUND_TRUTH_PATH,\n",
    "            table_name    =table_name\n",
    "        )\n",
    "\n",
    "        #cleaned_data = data_cleaning(data)\n",
    "\n",
    "        data_processing_sherlock.flatten_and_save(data, labels, OUTPUT_PATH, table_name, LANGUAGE_METADATA_PATH)\n",
    "\n",
    "        #print(f\"Processed {filename} -> {data_path}\")\n",
    "    except Exception as e:\n",
    "        print(f\"Skipping {filename}: {e}\")"
   ],
   "outputs": [
    {
     "name": "stdout",
     "output_type": "stream",
     "text": [
      "Combined data length: 21\n",
      "Combined labels length: 21\n",
      "Combined lang length: 21\n",
      "Combined data length: 29\n",
      "Combined labels length: 29\n",
      "Combined lang length: 29\n",
      "Combined data length: 61\n",
      "Combined labels length: 61\n",
      "Combined lang length: 61\n",
      "Combined data length: 81\n",
      "Combined labels length: 81\n",
      "Combined lang length: 81\n",
      "Combined data length: 97\n",
      "Combined labels length: 97\n",
      "Combined lang length: 97\n",
      "Combined data length: 130\n",
      "Combined labels length: 130\n",
      "Combined lang length: 130\n",
      "Combined data length: 135\n",
      "Combined labels length: 135\n",
      "Combined lang length: 135\n",
      "Combined data length: 137\n",
      "Combined labels length: 137\n",
      "Combined lang length: 137\n",
      "Combined data length: 140\n",
      "Combined labels length: 140\n",
      "Combined lang length: 140\n",
      "Combined data length: 148\n",
      "Combined labels length: 148\n",
      "Combined lang length: 148\n",
      "Combined data length: 150\n",
      "Combined labels length: 150\n",
      "Combined lang length: 150\n",
      "Combined data length: 152\n",
      "Combined labels length: 152\n",
      "Combined lang length: 152\n",
      "Combined data length: 154\n",
      "Combined labels length: 154\n",
      "Combined lang length: 154\n",
      "Combined data length: 158\n",
      "Combined labels length: 158\n",
      "Combined lang length: 158\n",
      "Combined data length: 163\n",
      "Combined labels length: 163\n",
      "Combined lang length: 163\n",
      "Combined data length: 173\n",
      "Combined labels length: 173\n",
      "Combined lang length: 173\n",
      "Combined data length: 182\n",
      "Combined labels length: 182\n",
      "Combined lang length: 182\n",
      "Combined data length: 193\n",
      "Combined labels length: 193\n",
      "Combined lang length: 193\n",
      "Combined data length: 196\n",
      "Combined labels length: 196\n",
      "Combined lang length: 196\n",
      "Combined data length: 205\n",
      "Combined labels length: 205\n",
      "Combined lang length: 205\n",
      "Combined data length: 238\n",
      "Combined labels length: 238\n",
      "Combined lang length: 238\n",
      "Combined data length: 242\n",
      "Combined labels length: 242\n",
      "Combined lang length: 242\n",
      "Combined data length: 244\n",
      "Combined labels length: 244\n",
      "Combined lang length: 244\n"
     ]
    }
   ],
   "execution_count": 5
  },
  {
   "metadata": {
    "ExecuteTime": {
     "end_time": "2025-05-05T13:04:05.377082Z",
     "start_time": "2025-05-05T13:04:05.364398Z"
    }
   },
   "cell_type": "code",
   "source": [
    "import pyarrow.parquet as pq\n",
    "tbl = pq.read_table(\"../sherlock_data_processing/data.parquet\")\n",
    "print(tbl.schema)"
   ],
   "id": "9441c6c862fb63bd",
   "outputs": [
    {
     "name": "stdout",
     "output_type": "stream",
     "text": [
      "__index_level_0__: int64\n",
      "values: string\n"
     ]
    }
   ],
   "execution_count": 37
  },
  {
   "metadata": {
    "ExecuteTime": {
     "end_time": "2025-05-05T13:04:09.121655Z",
     "start_time": "2025-05-05T13:04:09.108458Z"
    }
   },
   "cell_type": "code",
   "source": [
    "for row in tbl.column(\"values\"):\n",
    "    print(row.as_py(), type(row.as_py()))"
   ],
   "id": "b3d473cb25e27b22",
   "outputs": [
    {
     "name": "stdout",
     "output_type": "stream",
     "text": [
      "e_4800uq0,046_q0u0e,ue_009q06,u_018q0e0,qe4_0060u,1_0q002eu,0u040_7eq,0ueq0_202,80u_00qe6,_q97eu000,0u_e000q8,004qu_0e7,u1_060e0q,25q0eu0_0,_900qe40u,q408e0_u0,6u000q0_e,u190q0e1_,1e0_u00q1,4e00_0u1q,0_u00q0e5,_00eq200u,5p0000_br,010_u7eq0,e1_0uq206,05u0e0_q6,010u2e_5q,ue80_70q0,80q_e110u,0uq0e07_0,e0800uq_1,_ue080q01,11qu_e010,_q102eu40,_301q0eu0,e0003q_u3,6_0u0q30e,u_003eq90,00u_e0q49,90_0e9qu0,000q_32ue,00uq5e_70,u_q0310e1,00q660e_u,0_9ue0q02,_qe83000u,e0u14_1q0,0u003e_q9,02_050qeu,805q0u0_e,070eq20u_,e90u8q0_0,uqe0_0060,q80_008ue,q2000eu0_,0u70eq06_,5_u0040qe,1003q0_ue,q00e400u_,e010_q90u,09eu_000q,0e700_qu0,2eq10u_00,_0u0qe404,e680u0_0q,0q57u0e_0,eq0050_u3,1q_e10u02,069e_0uq0,1_1uq000e,q090u_0e0,uq300e0_1,00u0e_q30,q3e200u0_,00u0q_16e,_u0qe0127,_e0qu1500,026_q0e0u,q20eu101_,u00_eq001 <class 'str'>\n",
      "0C101DE5RTQ2,E15R0T0CQ52D,RC18E0T03Q2D,03QRTED050C0,02RE0QT1C4D1,0D3ERT002Q0C,T0CQDE00100R,RC0E2T7Q01D2,6E80DC09QR0T,0QR3T0D0E1C0,RD3TE012QC01,Q012260DRECT,101RE27QTDC0,QE32CDR0T106,72Q5DCRE01T0,3RQ00CE8DT01,80TQ00R0E0DC,60C07T0DEQR9,TRQ0CD0990E3,E30T0Q3DRC10,R2DE710T10QC,70C0132TREQD,C002T1RQ10DE,29002EQC1TDR,QE34201RDTC0,CD120R0ET44Q,01DCE074QR2T,E00C10D6QT2R,R20TEQC10D20,1C1QD0T082ER,0D300R9CQ1TE,C0QD312R5ET0,CDTQRE652030,ERT80CQ6012D,T1R60QED0C23,DRC020T1E1Q1,4DQT000R0E0C,CD08T000EQR3,8CD10E0QRT20,RE0C07TD160Q,2CT2D0REQ170,RCD212EQ01T0,R6E0CTQ4000D,D53CR0T1E20Q,CD00T2QE000R,DE0040QTR21C,TE202RCD40Q1,010C9T9EQ2RD,CTR0Q12DE802,20DTREQ5108C,E400RC0QD74T,RTC02010QE2D,CQ02T010D3RE,2C00D41ERT6Q,EQ05TR20D0C1,9EC09T0RD01Q,90DQ4R2T0C0E,DE00RT2C710Q,C00031TQDR0E,QER9509CD0T0,EQ04DC05TR21,C90Q6D0ERT21,QCTE1220D50R,CQTER1D50092,QC0TED0051R1,1RE2D3Q000CT,03E0Q14CRT2D,R0QD03T10CE4,6EQ0060CDR1T,Q900ECTRD021,Q2T1DE230RC0,120R4TC0EQD6,0D0RQ0E1TC80,TRE0703C0DQ0,R04Q20E0TD0C,9CD0R0QT030E,TQE2D0C101R6,9TCE35QD009R,Q1ED010R5C2T,C200D9ETQR09 <class 'str'>\n",
      "bik094,mbk228,bik074,bik001,mbk461,mbk055,mbk255,mbk056,bik102,bik042,bik008,mbk021,mbk375,bik076,mbk003,mbk092,bik011,mbk016,RDC18,mbk067,mbk018,bik039,bik014,mbk001,mbk266,mbk096,mbk191,bik072,mbk454 <class 'str'>\n",
      "89T1R7D9QK010BCME06--,410030ER-0QKBDCT2-6R,4CD-01-T1M8EQ0K8RB0100,KD1CQM45060B212R2--8T,RB0580-610979CT-DQMKE,30800-MQ1RK7DB01CE-T08,Q-CT0D40902MB-R4E1K00,04R0K0C4E2-1RQ-D42BT3,32R-12KRTB404D-0QC01E,-Q0TD2-CBK00095R0ER,RQ4R9K0-4E2TC0-B7D00,T043ER-DK6C0R0QB-207,B00M980K,0D8000--6Q00EDGTC8IR,9001K3RB,M9--DB98RE0T09616KCQ0,1B96L0O9,56-B3C3ELR0T20DQB006-,DC8000QRE,0Q3D0B0CB-R81-2T0E2L5 <class 'str'>\n",
      "45,4,60,65,22,8,30,19,2,46,18,3,35,54,33,85,31,40,50,38,37,32,34,16,0,49,24,9,58,71,11,26,51,21,25,1,59,47,15,7,20,61,56,48,42,55,28,53 <class 'str'>\n",
      "m,f <class 'str'>\n",
      "probable,confirme <class 'str'>\n",
      "2020-08-20,2020-06-23,2020-06-27,2020-05-22,2020-08-01,2020-07-01,2020-08-05,2020-06-04,2020-07-10,2020-06-07,2020-07-25,2020-07-18,2020-06-06,2020-09-02,2020-08-02,2020-07-02,2020-08-10,2020-08-16,2020-06-22,2020-06-26,2020-07-15,2020-06-25,2020-09-01,2020-06-20,2020-08-06,2020-08-08,2020-06-16,2020-06-30,2020-06-29,2020-08-25,2020-08-04,2020-05-31,2020-09-09,2020-06-24,2020-07-13,2020-08-12,2020-06-19,2020-05-09,2020-07-16,2020-05-18,2020-08-03,2020-06-17,2020-06-28,2020-06-18,2020-05-28,2020-07-12,2020-06-08,2020-07-24,2020-05-19,2020-07-14,2020-06-15,2020-08-21,2020-05-15,2020-06-21,2020-07-08,2020-08-15,2020-09-12,2020-06-05 <class 'str'>\n",
      "2020-06-11,2020-07-28,2020-07-22,2020-07-08,2020-07-04,2020-08-09,2020-06-10,2020-07-12,2020-09-29,2020-06-29,2020-08-14,2020-08-28,2020-06-24,2020-07-13,2020-08-13,2020-06-01,2020-06-28,2020-07-30,2020-07-14,2020-07-16,2020-08-05,2020-07-06,2020-09-14,2020-06-25,2020-08-23,2020-05-31,2020-06-21,2020-06-03,2020-09-10,2020-08-19,2020-07-18,2020-07-15,2020-07-01,2020-09-08,2020-08-06,2020-08-08,2020-08-18,2020-08-21,2020-07-29,2020-09-06,2020-08-17,2020-06-19,2020-08-25,2020-07-07,2020-06-27,2020-07-20,2020-09-18,2020-08-03,2020-08-16,2020-06-06,2020-05-29 <class 'str'>\n",
      "2020-08-12,2020-06-26,2020-08-16,2020-06-16,2020-08-10,2020-07-05,2020-09-04,2020-09-06,2020-07-13,2020-07-10,2020-06-21,2020-06-30,2020-06-18,2020-07-16,2020-06-28,2020-07-25,2020-06-11,2020-06-01,2020-07-21,2020-08-15,2020-06-17,2020-07-06,2020-06-13,2020-08-08,2020-06-06,2020-07-12,2020-09-07,2020-08-19,2020-05-30,2020-06-10,2020-09-05,2020-09-08,2020-06-27,2020-06-24,2020-07-03,2020-08-29,2020-07-20,2020-08-14,2020-06-29,2020-06-02,2020-07-19,2020-07-29,2020-06-19,2020-07-02,2020-06-20 <class 'str'>\n",
      "2020-08-11,2020-06-18,2020-06-29,2020-07-16,2020-06-26,2020-09-17,2020-06-28,2020-07-28,2020-09-04,2020-06-06,2020-06-13,2020-08-10,2020-07-20,2020-06-19,2020-06-08,2020-09-09,2020-06-02,2020-07-19,2020-07-25,2020-06-04,2020-07-08,2020-08-28,2020-07-02,2020-08-08,2020-06-11,2020-07-10,2020-06-21,2020-07-01,2020-07-23,2020-08-16,2020-08-19,2020-07-04 <class 'str'>\n",
      "gueri,decede <class 'str'>\n",
      "1.0,0.0 <class 'str'>\n",
      "0.0,1.0,2.0 <class 'str'>\n",
      "commercant,berceuse,mineur,menagere,electricien,commercant ambulant,enseignant,petit commerce,couturier,tradipraticien, chasseur,pecheur,infirmier,chasseur,fermier,taxi_moto,reco,fermier, commercant,etudiant,chomage <class 'str'>\n",
      "1.0,0.0 <class 'str'>\n",
      "famille,funerailles,famille, funerailles,communaute, funerailles,nosocomial,communaute <class 'str'>\n",
      "0.0,1.0 <class 'str'>\n",
      "2020-08-06,2020-06-20,2020-06-26,2020-06-14,2020-06-15,2020-08-08,2020-06-16,2020-07-21,2020-07-14,2020-08-10,2020-07-10 <class 'str'>\n",
      "rapport_oms, rapport_msf,moh_narratif,description_moh, rapport_msf, narratif,description_moh, rapport_msf,moh_description,description_moh,description_moh_kinshasa_ll,description_moh, rapport_enquete,rapport_enquete, narratif,rapport_oms, rapport_vaccination, rapport_msf,rapport_oms, rapport_msf, moh_narratif,rapport_enquete,description_moh_rapport_enquete,rapport_msf, narratif,rapport_msf,rapport_oms,rapport_vaccination, rapport_msf,rapport_vaccination, rapport_msf,narratif_preliminaire, narratif,description_moh, rapport_msf,rapport_enquete,lab_wahtsapp,description_moh, narratif,email,rapport_unicef, rapport_msf, rapport_enquete <class 'str'>\n",
      "2020-07-09,2020-09-07,2020-09-02,2020-09-08,2020-08-10,2020-08-24,2020-07-08,2020-09-20,2020-06-18,2020-08-23,2020-07-17,2020-07-10,2020-10-04,2020-09-11,2020-07-24,2020-08-30,2020-09-23,2020-06-17,2020-08-21,2020-08-19,2020-07-07,2020-08-28,2020-07-03,2020-07-01,2020-09-04,2020-07-11,2020-06-25,2020-07-31,2020-06-30,2020-09-15,2020-08-16,2020-07-28,2020-09-06,2020-08-13 <class 'str'>\n",
      "348284431,38745949,584160574,435305068,148483542,244803348,496043108,990543884,143809574,37758424,406838105,800634439,494854370,558884575,904845338,850144932,698540843,345188495,729834517,589348480,990538444,442123628,930068439,683466243,454748653,950483404,408424593,144438580,843426590,187494543,864023403,753362496,474541383,543049228,499282784,708943549,438442348,480298354,444647853,430520886,954573814,377408280,434862302,604033889,414418538,831449580,902486340,60044893,463887700,564196483,389061043,298413564,424184328,384845904,860904332,443184853,328455149,144387295,703012584,684773700,481335498,63804823,886359414,894456815,608044830,796834008,410148577,458480732,440839534,414895483,183458444,98032846,449825303,4347877,894331534,413084795,98473845,941853414,800806134,448340559,548493905,143585941,154348955,451937448,543005835,450918349,138426433,374409458,347454874,55374448,406088330,242336834,449380335,94285943,8680340,896043545,844438263,984351344,853586543,44861275,757460481,149184536,34841954,434842068,480780370,700476873,430048959,498514453,830345494,498431885,470770883,533449118,304908845,304897707,248144539,485079043,864308431,888454431,23444888,842834348,398050634,641845341,23479854,718447935,94482630,45483129,477037008,398640453,291544831,449685391,342459480,200436818,594398134,340435890,188934544,788434544,357464980,534344758,184176054,476840915,244810834,360008548,398458401,463580030,980434544,313843657,404743828,300986443,300746998,804234336,945498331,345804953,18803406,489491235,463420132,241440857,604879032,586440793,384350059,864672534,314458067,494485743,978376004,815449843,344132216,418906354,670704839,846030028,49435881,643985481,584354841,877070345,894860543,406038880,465148047,634308214,455012224,410584346,850345490,941348954,538249504,438641428,304184519,841866300,994413058,800038462,461583494,348245840,415943835,345895045,834460590,598314242,303089643,159144348,564183844,890935443,595484313,195445873,833549144,479541038,470435983,134569874,441332985,853401944,479543580,433124488,43868104,208044457,495731484,493487511,554781434,481456394,98360942,4736698,463018490,514918634,703477830,448014395,914658034,44729853,454574438,463550489,810743077,14544398,311424488,598338748,438245147,482413584,346485441,48836071,251449183,173804346,149348456,598144534,434721589,159544384,749684513,413858429,143060897,875404713,403489594,545559515,158494739,462803903,541483093,914463380,410748754 <class 'str'>\n",
      "N,Y <class 'str'>\n",
      "N,40/41 <class 'str'>\n",
      "3,1,4,6,13,2,5,12,15,8,7,16,0,14,10,11,9 <class 'str'>\n",
      "PROB,DISC <class 'str'>\n",
      "JAUNDICE;PAINABDO;WEAK,FEVER;RASH;VOMIT;WEAK,DARKU;DIARR;FEVER;JAUNDICE;PAINABDO;STOPAL;VOMIT;WEAK,WEAK,DIARR;FEVER;JAUNDICE;PAINABDO;VOMIT,FEVER;HEAD;PAINABDO;VOMIT;WEAK,ANO;DIARR;FEVER;HEPATOME;PAINABDO;RASH;RESP;SORETHR;VOMIT,JAUNDICE;PAINABDO;RESP;STOPAL;WEAK,DIARR;PAINABDO;RASH,JAUNDICE;STOPAL;VOMIT;WEAK,FEVER,DIARR;JAUNDICE;STOPAL;WEAK,DIARR;FEVER;JAUNDICE;STOPAL;VOMIT;WEAK,PAINABDO,FEVER;O;STOBLO;VOMIT,FEVER;PAINABDO;RESP;VOMIT;WEAK,DIARR;HEAD;JAUNDICE;PAINABDO;WEAK,DIARR;JAUNDICE;VOMIT;WEAK,FEVER;HEAD;JAUNDICE;PAINABDO;VOMIT,DIARR;FEVER;JAUNDICE;O;PAINABDO;RASH;RESP;VOMIT;WEAK,DIARR;PAINABDO;RESP;VOMIT;WEAK,O,DARKU;HEPATOME;JAUNDICE;O;PAINABDO;VOMIT,JAUNDICE;O;PAINABDO;STOPAL;VOMIT;WEAK,DIARR;FEVER;PAINABDO;RESP;VOMIT;WEAK,FEVER;O;VOMIT,DARKU;JAUNDICE;PAINABDO;RESP;STOPAL;VOMIT;WEAK,ANO;O;RESP;WEAK,DIARR;FEVER;VOMIT,JAUNDICE;PAINABDO;VOMIT,FEVER;JAUNDICE;PAINABDO;STOPAL,DIARR;JAUNDICE;PAINABDO;STOPAL;VOMIT;WEAK,DIARR;FEVER;PAINABDO;VOMIT;WEAK,DARKU;JAUNDICE;PAINABDO;VOMIT,DARKU;JAUNDICE;O;PAINABDO;RASH;STOPAL;VOMIT;WEAK,RASH;STOPAL;WEAK,CONJ;FEVER;JAUNDICE;PAINABDO;RASH;RESP;STOPAL;VOMIT;WEAK,FEVER;PAINABDO;RASH,DIARR;FEVER;HEAD;PAINABDO;RASH;VOMIT,FEVER;RASH,JAUNDICE;O;PAINABDO;WEAK,DIARR;FEVER;RESP,JAUNDICE;O;PAINABDO;VOMIT;WEAK,DIARR;RESP,FEVER;WEAK,DIARR;JAUNDICE;PAINABDO;RESP;VOMIT;WEAK,VOMIT,FEVER;PAINABDO;VOMIT;WEAK,ANO;JAUNDICE;WEAK,DARKU;JAUNDICE;RESP;WEAK,ANO;RESP,JAUNDICE;VOMIT,JAUNDICE,FEVER;O;VOMIT;WEAK,DARKU;O,DIARR,O;RASH,JAUNDICE;VOMIT;WEAK,FEVER;PAINABDO;VOMIT,FEVER;JAUNDICE;VOMIT,ASY,FEVER;HEPATOME,FEVER;JAUNDICE;PAINABDO;VOMIT;WEAK,DARKU;FEVER;IRR;JAUNDICE;VOMIT;WEAK,RASH;VOMIT <class 'str'>\n",
      "Armenia,South Africa,San Marino,New Zealand,Germany,Isle of Man,Bangladesh,Malta,Canada,Lithuania,Malaysia,Guatemala,France,Slovakia,Montenegro,Ukraine,Philippines,Poland,Portugal,Kuwait <class 'str'>\n",
      "2022-04-25,2022-04-17,2022-03-16,2022-05-08,2022-05-24,2022-04-16,2022-05-05,2022-04-28,2022-02-19,2022-05-04,2022-04-21,2022-04-03,2022-03-28,2022-01-30,2022-03-30,2022-04-05,2022-04-06,2022-04-22,2022-01-20,2022-03-11,2022-03-29,2022-04-01,2022-04-18,2022-03-14,2022-05-03,2022-03-06,2022-03-25,2022-02-23,2022-05-02,2022-04-30,2022-01-25,2022-03-27,2021-12-13,2022-03-22,2022-01-13,2022-05-01,2022-01-19,2022-04-26,2022-04-24,2022-01-04,2022-04-12,2022-03-01,2022-04-15,2022-02-22,2022-04-29,2022-04-14,2022-04-10,2022-04-04,2022-01-22,2022-04-13,2022-01-08,2022-03-20,2022-04-02,2022-05-09,2022-05-19,2022-05-14,2022-02-04,2022-02-26,2022-02-17,2021-12-20,2022-05-25,2022-03-23,2022-03-31,2022-03-15,2022-02-14,2022-04-27,2021-12-08,2022-05-07,2022-05-22,2022-02-13,2022-04-11,2022-05-12,2022-01-09,2022-02-16,2022-04-19,2022-01-29,2022-04-09,2022-05-13,2022-05-20,2022-05-17,2022-04-20,2022-05-21,2022-02-18,2022-01-27,2022-04-07,2021-12-24,2022-03-21,2022-05-11,2022-01-24,2022-01-31,2022-03-02,2022-05-06,2022-05-16,2022-05-18,2022-03-13,2022-02-09,2021-12-21,2022-01-26 <class 'str'>\n",
      "2022-01-23,2022-01-31,2022-02-08,2022-01-15,2022-05-14,2022-03-24,2022-03-13,2022-05-19,2022-01-11,2022-05-04,2022-04-08,2022-04-23,2022-05-03,2022-03-15,2022-03-31,2022-04-16,2022-03-21,2021-04-14,2022-02-24,2022-04-20,2022-04-10,2022-03-17,2022-04-24,2020-05-20,2022-03-11,2022-04-01,2022-05-10,2022-04-11,2022-04-26,2022-04-17,2022-04-25,2022-02-28,2022-04-13,2022-03-23,2022-03-06,2022-03-14,2022-05-23,2021-12-01,2022-04-07,2022-03-01,2022-02-04,2022-03-28,2022-05-05,2022-05-20,2022-01-20,2022-03-12,2022-02-15,2022-04-29,2022-05-02,2022-01-07,2022-05-07,2022-01-26,2022-03-19,2022-04-22,2022-05-16,2022-05-11,2021-11-05,2021-11-30,2022-02-05,2022-05-09,2022-04-03,2022-01-27,2022-04-28,2022-01-21,2022-05-13,2022-04-09,2022-04-30,2022-03-20,2022-03-30,2022-03-25,2022-01-12,2022-05-25,2022-03-26,2022-03-02,2022-03-27,2022-01-01,2022-04-05,2022-03-05,2022-02-20,2022-03-10,2022-05-18,2022-04-04,2022-02-23,2022-04-15,2022-01-25,2022-04-27,2022-05-17,2022-02-17,2022-03-04,2022-05-01,2021-12-15,2022-01-29,2022-02-13,2022-05-08,2022-03-22 <class 'str'>\n",
      "M,F <class 'str'>\n",
      "Y,N <class 'str'>\n",
      "ALIVE,STILLTREATMENT,DIEDNOVHEP <class 'str'>\n",
      "Azerbaijan,Cuba,Slovakia,Albania,Ukraine,Taiwan,Bosnia & Herzegovina,Lebanon,Croatia,Dominican Republic,Iraq,Ecuador,Guatemala,Armenia,Greece,North Macedonia,Denmark,Morocco,United States,Gibraltar,Haiti,Spain,Jersey,San Marino,Peru,Belgium,Bangladesh,Italy,Costa Rica,Portugal,Austria,Venezuela,Egypt,Kyrgyzstan,Fiji,Moldova,Serbia,Kuwait,Bolivia,Bulgaria,Latvia,Jamaica,Cambodia,Vietnam,India,South Korea,Turkey,Jordan,Isle of Man,Guernsey,Suriname,Netherlands,Kazakhstan,Russia <class 'str'>\n",
      "NEUROMUS,O,CARDIACDIS;O,HYPERT;METAB,GASTRO,DIAB,ASTH,NONE;UNK,LIVER,PREG,METAB;UNK,NONE <class 'str'>\n",
      "NO,EPILEPSY,Uncomplicated down syndrome,haemanglioom,prematurity_ chylothorax in the neonatal period_ heart murmurs,congenital heart defect_ Down's syndrome,PFAPA,allergy (urticarial) <class 'str'>\n",
      "Y,N <class 'str'>\n",
      "COM,MOD <class 'str'>\n",
      "2021-12-07,2021-08-30,2021-09-14,2022-01-04,2022-01-30 <class 'str'>\n",
      "NOTVACC,DOSEUNK,2DOSE <class 'str'>\n",
      "NOVHEP <class 'str'>\n",
      "4694466,4863561,4849178,4734363,4826173,4660052,4656336,4664586,4664739,4664634,4884706,4795533,4665474,4655807,4708319,4760381,4664542,4656110,4711619,4759598,4763668,4679038,4735353,4665723,4696164,4777837,4614371,4712772,4665699,4711563,4664777,4664105,4692699,4665159,4788364,4694765,4677618,4759270,4601266,4713557,4708238,4656168,4604179,4665693,4735376,4663965,4787369,4624471,4708154,4645589,4776923,4795062,4663961,4665915,4708184,4723895,4779355,4665686,4760207,4735760,4660082,4598853,4679650,4665873,4680185,4624448,4656314,4691589,4644999,4663201,4665421,4696467,4602255,4655856,4661060,4663827,4864221,4665500,4694109,4708287,4707330,4710022,4794232,4680714,4665688,4665662,4679633,4656784,4665455,4665651,4665703,4712441,4764435,4665886,4724154,4694549,4679404,4776915,4735381,4762959,4760734,4665667,4735688,4658605,4680903,4710889,4711205,4736823,4747416,4696083,4735314 <class 'str'>\n",
      "Cholera <class 'str'>\n",
      "240131_46655002,240114_4624378,240416_47873702,240214_46941092,240114_46244481,240614_48612741,240220_47073301,240131_46651582,240213_46926992,240306_47357602,240315_47618671,240409_47830951,240314_47607342,240228_47120261,240227_47112052,240227_47116192,240116_46454782,240201_46656992,240117_46563142,240223_47097752,240114_4624471,240201_46656672,240201_46657312,240221_47080982,240618_46960831,240130_46647782,240130_46645082,240319_47636822,240131_46654552,240123_46600402,240201_46657032,240130_46647582,240209_46915893,240214_46941432,240220_47076022,240228_47124412,240221_47082872,240130_46645422,240213_46929422,240213_46928481,240130_46647772,240215_46944692,240226_47109121,240615_48619151,240113_46143713,240201_46656772,240123_46600522,240618_46613611,240130_46646342,240312_4759541,240201_46658962,240122_46586052,240320_4764435,240131_46654212,240101_45981471,240117_46558072,240313_47603812,240318_4762959,240221_47083191,240201_46656622,240201_46657182,240130_46641053,240429_47942321,240326_47769231,240201_46656512,240219_4696415,240201_46656432,240215_46947642,240201_46658731,240307_47368232,240206_46789641,240124_46610601,240520_4826173,240215_46944662,240313_47602072,240129_46639612,240219_46961631,240221_47083321,240205_46776181,240207_46797452,240201_46656882,240201_46657412,240403_47800951,240305_47353812,240129_46639672,240226_47108891,240430_47950621,240207_46796331,240207_46794043,240209_46809031,240117_46561682,240109_46012661,240416_47873812,240131_46654002,240619_48635613,240618_47769151,240119_46576392,240221_47082382,240131_46654412,240118_46567842,240129_46639652,240207_46796501,240117_46558562,240205_46778721,240305_47353531,240618_47103671 <class 'str'>\n",
      "Suspected case,Clinical notification,Discarded case,Laboratory notification,Confirmed case <class 'str'>\n",
      "2024-03-09,2024-01-26,2024-01-11,2024-01-21,2024-06-10,2024-01-28,2024-01-20,2024-01-14,2024-06-17,2024-02-13,2024-03-01,2024-03-14,2024-04-07,2024-03-05,2024-01-30,2024-03-31,2024-01-08,2024-01-29,2024-01-27,2024-05-06,2024-01-31,2024-01-22,2024-02-09,2024-03-18,2024-01-15,2024-01-12,2024-02-21,2024-01-05,2024-02-06,2024-02-08,2024-02-16,2024-02-01,2024-02-07,2024-02-27,2024-02-17,2024-02-28,2024-01-23,2024-04-10,2024-01-10,2024-01-25,2024-01-16,2024-02-29,2024-02-25,2024-02-18,2024-02-23,2023-12-27,2024-03-03,2024-02-14,2024-03-10,2024-02-03,2024-03-20,2024-02-05,2024-02-19,2024-03-16,2024-02-12 <class 'str'>\n",
      "2024-01-28,2024-03-28,2024-01-31,2024-02-06,2024-03-01,2024-01-15,2024-02-27,2024-04-12,2024-03-12,2024-03-19,2024-01-12,2024-03-04,2024-03-05,2024-01-29,2024-01-30,2024-03-13,2023-12-28,2024-01-21,2024-01-03,2024-02-13,2024-02-14,2024-03-20,2024-01-16,2024-01-26,2024-02-20,2024-01-17,2024-02-08,2024-01-13,2024-02-07,2024-03-14,2024-01-23,2024-02-01,2024-02-26,2024-04-08,2024-01-27,2024-02-12,2024-02-19,2024-03-25,2024-04-29,2024-01-22,2024-03-02,2024-02-29,2024-01-08,2024-02-11,2024-01-24,2023-12-30,2024-04-01,2024-06-13,2024-02-28,2024-01-18,2024-02-15,2024-01-11,2024-02-22,2024-05-24 <class 'str'>\n",
      "Clinical signs and symptoms ONLY,Laboratory confirmed,Other <class 'str'>\n",
      "2024-02-01,2024-01-19,2024-02-13,2024-03-01,2024-02-26,2024-02-12,2024-01-31,2024-03-13,2024-01-29,2024-03-06,2024-04-30,2024-02-28,2024-02-29,2024-02-23,2024-01-30,2024-02-14,2024-05-20,2024-02-20,2024-02-22,2024-01-17,2024-06-15,2024-01-12,2024-02-18,2024-07-16,2024-04-29,2024-01-23,2024-02-21,2024-02-11,2024-01-14,2024-02-09,2024-02-08,2024-03-05,2024-01-24,2024-01-15,2024-02-05,2024-01-16,2024-03-04,2024-04-03,2024-01-13,2024-03-12,2024-04-01,2024-02-07,2024-03-18,2024-03-02,2024-02-27,2024-03-15,2024-03-19,2024-01-01,2024-02-19,2024-01-18 <class 'str'>\n",
      "48.0,39.0,8.0,61.0,24.0,42.0,34.0,9.0,55.0,29.0,27.0,19.0,86.0,41.0,7.0,44.0,14.0,28.0,15.0,2.0,5.0,33.0,23.0,36.0,79.0,37.0,49.0,26.0,17.0,32.0,54.0,6.0,12.0,38.0,11.0,47.0,73.0,40.0,59.0,13.0,30.0,16.0,63.0,64.0,72.0,52.0,58.0,20.0,76.0,35.0,3.0,66.0,4.0 <class 'str'>\n",
      "Female,Male <class 'str'>\n",
      "Alive,Deceased <class 'str'>\n",
      "2024-02-09,2024-02-22,2024-01-29,2024-01-30,2024-03-12,2024-03-01 <class 'str'>\n",
      "Outpatient,Inpatient,Discharged,Transferred <class 'str'>\n",
      "No,Yes <class 'str'>\n",
      "Not Pregnant <class 'str'>\n",
      "Profuse watery diarrhea|,Rice-water stools|,Severe dehydration|Vomiting|Profuse watery diarrhea|,Profuse watery diarrhea|Severe dehydration|,Profuse watery diarrhea|Vomiting|Severe dehydration|,Profuse watery diarrhea|Vomiting|,Rice-water stools|Vomiting|,Profuse watery diarrhea|Severe dehydration|Vomiting|,Severe dehydration|Profuse watery diarrhea|,Vomiting|Profuse watery diarrhea|,Profuse watery diarrhea|Rice-water stools|Severe dehydration|,Vomiting|,Vomiting|Severe dehydration|Profuse watery diarrhea|,Vomiting|Rice-water stools|,Profuse watery diarrhea|Rice-water stools|Vomiting|,Vomiting|Severe dehydration|Rice-water stools|Profuse watery diarrhea|,Rice-water stools|Severe dehydration|Vomiting|,Vomiting|Profuse watery diarrhea|Severe dehydration|,Profuse watery diarrhea|Severe dehydration|Rice-water stools|,Profuse watery diarrhea|Rice-water stools|,Vomiting|Rice-water stools|Profuse watery diarrhea|Severe dehydration|,Severe dehydration| <class 'str'>\n",
      "Black African <class 'str'>\n",
      "Not employed,Other <class 'str'>\n",
      "Pensioner,Scholar,Grant Administrator <class 'str'>\n",
      "Yes,No <class 'str'>\n",
      "No,Yes <class 'str'>\n",
      "No <class 'str'>\n",
      "No <class 'str'>\n",
      "No <class 'str'>\n",
      "No <class 'str'>\n",
      "No <class 'str'>\n",
      "No,Yes <class 'str'>\n",
      "Yes,No <class 'str'>\n",
      "Cholera,Nil <class 'str'>\n",
      "No <class 'str'>\n",
      "No <class 'str'>\n",
      "No Contact|,| <class 'str'>\n",
      "Discharged Alive,Admitted <class 'str'>\n",
      "Zimbabwe,Democratic Republic of the Congo,Angola,Sierra Leone,Mauritius,Egypt,Liberia,Sudan,South Sudan,Cameroon,Rwanda,Nigeria,Kenya,Burundi <class 'str'>\n",
      "2025-02-23,2025-03-02,2025-02-02,2024-10-06,2024-12-29,2025-02-16,2024-12-22 <class 'str'>\n",
      "Clade Ib,Clade II (a and/or b),Clades Ia and Ib,Clades Ib and II (a and/or b),No information,Clades Ia and II (a and/or b) <class 'str'>\n",
      "18,11,13,15,20,16,19 <class 'str'>\n",
      "Yes,6/2/2022,6/1/2022,5/28/2022,5/31/2022 <class 'str'>\n",
      "Cuba,Chile,Venezuela,Ecuador,Jamaica <class 'str'>\n",
      "2022-05-19,2022-05-09,2022-05-17,2022-05-16,2022-05-23 <class 'str'>\n",
      "Yes,No <class 'str'>\n",
      "we dont have this variable <class 'str'>\n",
      "2022-05-25,2022-06-01,2022-05-31,2022-05-27,2022-05-26 <class 'str'>\n",
      "N <class 'str'>\n"
     ]
    }
   ],
   "execution_count": 38
  },
  {
   "metadata": {
    "ExecuteTime": {
     "end_time": "2025-05-05T13:04:19.520695Z",
     "start_time": "2025-05-05T13:04:19.505806Z"
    }
   },
   "cell_type": "code",
   "source": [
    "df = tbl.to_pandas()\n",
    "print(df)"
   ],
   "id": "14b994350533c103",
   "outputs": [
    {
     "name": "stdout",
     "output_type": "stream",
     "text": [
      "    __index_level_0__                                             values\n",
      "0                   0  e_4800uq0,046_q0u0e,ue_009q06,u_018q0e0,qe4_00...\n",
      "1                   1  0C101DE5RTQ2,E15R0T0CQ52D,RC18E0T03Q2D,03QRTED...\n",
      "2                   2  bik094,mbk228,bik074,bik001,mbk461,mbk055,mbk2...\n",
      "3                   3  89T1R7D9QK010BCME06--,410030ER-0QKBDCT2-6R,4CD...\n",
      "4                   4  45,4,60,65,22,8,30,19,2,46,18,3,35,54,33,85,31...\n",
      "..                ...                                                ...\n",
      "80                 80  2022-05-19,2022-05-09,2022-05-17,2022-05-16,20...\n",
      "81                 81                                             Yes,No\n",
      "82                 82                         we dont have this variable\n",
      "83                 83  2022-05-25,2022-06-01,2022-05-31,2022-05-27,20...\n",
      "84                 84                                                  N\n",
      "\n",
      "[85 rows x 2 columns]\n"
     ]
    }
   ],
   "execution_count": 39
  },
  {
   "metadata": {
    "ExecuteTime": {
     "end_time": "2025-05-05T13:04:29.110253Z",
     "start_time": "2025-05-05T13:04:29.092923Z"
    }
   },
   "cell_type": "code",
   "source": [
    "py_lists = [s.split(\",\") for s in tbl.column(\"values\").to_pylist()]\n",
    "for L in py_lists:\n",
    "    print(L)"
   ],
   "id": "e0bc3da375b97aa",
   "outputs": [
    {
     "name": "stdout",
     "output_type": "stream",
     "text": [
      "['e_4800uq0', '046_q0u0e', 'ue_009q06', 'u_018q0e0', 'qe4_0060u', '1_0q002eu', '0u040_7eq', '0ueq0_202', '80u_00qe6', '_q97eu000', '0u_e000q8', '004qu_0e7', 'u1_060e0q', '25q0eu0_0', '_900qe40u', 'q408e0_u0', '6u000q0_e', 'u190q0e1_', '1e0_u00q1', '4e00_0u1q', '0_u00q0e5', '_00eq200u', '5p0000_br', '010_u7eq0', 'e1_0uq206', '05u0e0_q6', '010u2e_5q', 'ue80_70q0', '80q_e110u', '0uq0e07_0', 'e0800uq_1', '_ue080q01', '11qu_e010', '_q102eu40', '_301q0eu0', 'e0003q_u3', '6_0u0q30e', 'u_003eq90', '00u_e0q49', '90_0e9qu0', '000q_32ue', '00uq5e_70', 'u_q0310e1', '00q660e_u', '0_9ue0q02', '_qe83000u', 'e0u14_1q0', '0u003e_q9', '02_050qeu', '805q0u0_e', '070eq20u_', 'e90u8q0_0', 'uqe0_0060', 'q80_008ue', 'q2000eu0_', '0u70eq06_', '5_u0040qe', '1003q0_ue', 'q00e400u_', 'e010_q90u', '09eu_000q', '0e700_qu0', '2eq10u_00', '_0u0qe404', 'e680u0_0q', '0q57u0e_0', 'eq0050_u3', '1q_e10u02', '069e_0uq0', '1_1uq000e', 'q090u_0e0', 'uq300e0_1', '00u0e_q30', 'q3e200u0_', '00u0q_16e', '_u0qe0127', '_e0qu1500', '026_q0e0u', 'q20eu101_', 'u00_eq001']\n",
      "['0C101DE5RTQ2', 'E15R0T0CQ52D', 'RC18E0T03Q2D', '03QRTED050C0', '02RE0QT1C4D1', '0D3ERT002Q0C', 'T0CQDE00100R', 'RC0E2T7Q01D2', '6E80DC09QR0T', '0QR3T0D0E1C0', 'RD3TE012QC01', 'Q012260DRECT', '101RE27QTDC0', 'QE32CDR0T106', '72Q5DCRE01T0', '3RQ00CE8DT01', '80TQ00R0E0DC', '60C07T0DEQR9', 'TRQ0CD0990E3', 'E30T0Q3DRC10', 'R2DE710T10QC', '70C0132TREQD', 'C002T1RQ10DE', '29002EQC1TDR', 'QE34201RDTC0', 'CD120R0ET44Q', '01DCE074QR2T', 'E00C10D6QT2R', 'R20TEQC10D20', '1C1QD0T082ER', '0D300R9CQ1TE', 'C0QD312R5ET0', 'CDTQRE652030', 'ERT80CQ6012D', 'T1R60QED0C23', 'DRC020T1E1Q1', '4DQT000R0E0C', 'CD08T000EQR3', '8CD10E0QRT20', 'RE0C07TD160Q', '2CT2D0REQ170', 'RCD212EQ01T0', 'R6E0CTQ4000D', 'D53CR0T1E20Q', 'CD00T2QE000R', 'DE0040QTR21C', 'TE202RCD40Q1', '010C9T9EQ2RD', 'CTR0Q12DE802', '20DTREQ5108C', 'E400RC0QD74T', 'RTC02010QE2D', 'CQ02T010D3RE', '2C00D41ERT6Q', 'EQ05TR20D0C1', '9EC09T0RD01Q', '90DQ4R2T0C0E', 'DE00RT2C710Q', 'C00031TQDR0E', 'QER9509CD0T0', 'EQ04DC05TR21', 'C90Q6D0ERT21', 'QCTE1220D50R', 'CQTER1D50092', 'QC0TED0051R1', '1RE2D3Q000CT', '03E0Q14CRT2D', 'R0QD03T10CE4', '6EQ0060CDR1T', 'Q900ECTRD021', 'Q2T1DE230RC0', '120R4TC0EQD6', '0D0RQ0E1TC80', 'TRE0703C0DQ0', 'R04Q20E0TD0C', '9CD0R0QT030E', 'TQE2D0C101R6', '9TCE35QD009R', 'Q1ED010R5C2T', 'C200D9ETQR09']\n",
      "['bik094', 'mbk228', 'bik074', 'bik001', 'mbk461', 'mbk055', 'mbk255', 'mbk056', 'bik102', 'bik042', 'bik008', 'mbk021', 'mbk375', 'bik076', 'mbk003', 'mbk092', 'bik011', 'mbk016', 'RDC18', 'mbk067', 'mbk018', 'bik039', 'bik014', 'mbk001', 'mbk266', 'mbk096', 'mbk191', 'bik072', 'mbk454']\n",
      "['89T1R7D9QK010BCME06--', '410030ER-0QKBDCT2-6R', '4CD-01-T1M8EQ0K8RB0100', 'KD1CQM45060B212R2--8T', 'RB0580-610979CT-DQMKE', '30800-MQ1RK7DB01CE-T08', 'Q-CT0D40902MB-R4E1K00', '04R0K0C4E2-1RQ-D42BT3', '32R-12KRTB404D-0QC01E', '-Q0TD2-CBK00095R0ER', 'RQ4R9K0-4E2TC0-B7D00', 'T043ER-DK6C0R0QB-207', 'B00M980K', '0D8000--6Q00EDGTC8IR', '9001K3RB', 'M9--DB98RE0T09616KCQ0', '1B96L0O9', '56-B3C3ELR0T20DQB006-', 'DC8000QRE', '0Q3D0B0CB-R81-2T0E2L5']\n",
      "['45', '4', '60', '65', '22', '8', '30', '19', '2', '46', '18', '3', '35', '54', '33', '85', '31', '40', '50', '38', '37', '32', '34', '16', '0', '49', '24', '9', '58', '71', '11', '26', '51', '21', '25', '1', '59', '47', '15', '7', '20', '61', '56', '48', '42', '55', '28', '53']\n",
      "['m', 'f']\n",
      "['probable', 'confirme']\n",
      "['2020-08-20', '2020-06-23', '2020-06-27', '2020-05-22', '2020-08-01', '2020-07-01', '2020-08-05', '2020-06-04', '2020-07-10', '2020-06-07', '2020-07-25', '2020-07-18', '2020-06-06', '2020-09-02', '2020-08-02', '2020-07-02', '2020-08-10', '2020-08-16', '2020-06-22', '2020-06-26', '2020-07-15', '2020-06-25', '2020-09-01', '2020-06-20', '2020-08-06', '2020-08-08', '2020-06-16', '2020-06-30', '2020-06-29', '2020-08-25', '2020-08-04', '2020-05-31', '2020-09-09', '2020-06-24', '2020-07-13', '2020-08-12', '2020-06-19', '2020-05-09', '2020-07-16', '2020-05-18', '2020-08-03', '2020-06-17', '2020-06-28', '2020-06-18', '2020-05-28', '2020-07-12', '2020-06-08', '2020-07-24', '2020-05-19', '2020-07-14', '2020-06-15', '2020-08-21', '2020-05-15', '2020-06-21', '2020-07-08', '2020-08-15', '2020-09-12', '2020-06-05']\n",
      "['2020-06-11', '2020-07-28', '2020-07-22', '2020-07-08', '2020-07-04', '2020-08-09', '2020-06-10', '2020-07-12', '2020-09-29', '2020-06-29', '2020-08-14', '2020-08-28', '2020-06-24', '2020-07-13', '2020-08-13', '2020-06-01', '2020-06-28', '2020-07-30', '2020-07-14', '2020-07-16', '2020-08-05', '2020-07-06', '2020-09-14', '2020-06-25', '2020-08-23', '2020-05-31', '2020-06-21', '2020-06-03', '2020-09-10', '2020-08-19', '2020-07-18', '2020-07-15', '2020-07-01', '2020-09-08', '2020-08-06', '2020-08-08', '2020-08-18', '2020-08-21', '2020-07-29', '2020-09-06', '2020-08-17', '2020-06-19', '2020-08-25', '2020-07-07', '2020-06-27', '2020-07-20', '2020-09-18', '2020-08-03', '2020-08-16', '2020-06-06', '2020-05-29']\n",
      "['2020-08-12', '2020-06-26', '2020-08-16', '2020-06-16', '2020-08-10', '2020-07-05', '2020-09-04', '2020-09-06', '2020-07-13', '2020-07-10', '2020-06-21', '2020-06-30', '2020-06-18', '2020-07-16', '2020-06-28', '2020-07-25', '2020-06-11', '2020-06-01', '2020-07-21', '2020-08-15', '2020-06-17', '2020-07-06', '2020-06-13', '2020-08-08', '2020-06-06', '2020-07-12', '2020-09-07', '2020-08-19', '2020-05-30', '2020-06-10', '2020-09-05', '2020-09-08', '2020-06-27', '2020-06-24', '2020-07-03', '2020-08-29', '2020-07-20', '2020-08-14', '2020-06-29', '2020-06-02', '2020-07-19', '2020-07-29', '2020-06-19', '2020-07-02', '2020-06-20']\n",
      "['2020-08-11', '2020-06-18', '2020-06-29', '2020-07-16', '2020-06-26', '2020-09-17', '2020-06-28', '2020-07-28', '2020-09-04', '2020-06-06', '2020-06-13', '2020-08-10', '2020-07-20', '2020-06-19', '2020-06-08', '2020-09-09', '2020-06-02', '2020-07-19', '2020-07-25', '2020-06-04', '2020-07-08', '2020-08-28', '2020-07-02', '2020-08-08', '2020-06-11', '2020-07-10', '2020-06-21', '2020-07-01', '2020-07-23', '2020-08-16', '2020-08-19', '2020-07-04']\n",
      "['gueri', 'decede']\n",
      "['1.0', '0.0']\n",
      "['0.0', '1.0', '2.0']\n",
      "['commercant', 'berceuse', 'mineur', 'menagere', 'electricien', 'commercant ambulant', 'enseignant', 'petit commerce', 'couturier', 'tradipraticien', ' chasseur', 'pecheur', 'infirmier', 'chasseur', 'fermier', 'taxi_moto', 'reco', 'fermier', ' commercant', 'etudiant', 'chomage']\n",
      "['1.0', '0.0']\n",
      "['famille', 'funerailles', 'famille', ' funerailles', 'communaute', ' funerailles', 'nosocomial', 'communaute']\n",
      "['0.0', '1.0']\n",
      "['2020-08-06', '2020-06-20', '2020-06-26', '2020-06-14', '2020-06-15', '2020-08-08', '2020-06-16', '2020-07-21', '2020-07-14', '2020-08-10', '2020-07-10']\n",
      "['rapport_oms', ' rapport_msf', 'moh_narratif', 'description_moh', ' rapport_msf', ' narratif', 'description_moh', ' rapport_msf', 'moh_description', 'description_moh', 'description_moh_kinshasa_ll', 'description_moh', ' rapport_enquete', 'rapport_enquete', ' narratif', 'rapport_oms', ' rapport_vaccination', ' rapport_msf', 'rapport_oms', ' rapport_msf', ' moh_narratif', 'rapport_enquete', 'description_moh_rapport_enquete', 'rapport_msf', ' narratif', 'rapport_msf', 'rapport_oms', 'rapport_vaccination', ' rapport_msf', 'rapport_vaccination', ' rapport_msf', 'narratif_preliminaire', ' narratif', 'description_moh', ' rapport_msf', 'rapport_enquete', 'lab_wahtsapp', 'description_moh', ' narratif', 'email', 'rapport_unicef', ' rapport_msf', ' rapport_enquete']\n",
      "['2020-07-09', '2020-09-07', '2020-09-02', '2020-09-08', '2020-08-10', '2020-08-24', '2020-07-08', '2020-09-20', '2020-06-18', '2020-08-23', '2020-07-17', '2020-07-10', '2020-10-04', '2020-09-11', '2020-07-24', '2020-08-30', '2020-09-23', '2020-06-17', '2020-08-21', '2020-08-19', '2020-07-07', '2020-08-28', '2020-07-03', '2020-07-01', '2020-09-04', '2020-07-11', '2020-06-25', '2020-07-31', '2020-06-30', '2020-09-15', '2020-08-16', '2020-07-28', '2020-09-06', '2020-08-13']\n",
      "['348284431', '38745949', '584160574', '435305068', '148483542', '244803348', '496043108', '990543884', '143809574', '37758424', '406838105', '800634439', '494854370', '558884575', '904845338', '850144932', '698540843', '345188495', '729834517', '589348480', '990538444', '442123628', '930068439', '683466243', '454748653', '950483404', '408424593', '144438580', '843426590', '187494543', '864023403', '753362496', '474541383', '543049228', '499282784', '708943549', '438442348', '480298354', '444647853', '430520886', '954573814', '377408280', '434862302', '604033889', '414418538', '831449580', '902486340', '60044893', '463887700', '564196483', '389061043', '298413564', '424184328', '384845904', '860904332', '443184853', '328455149', '144387295', '703012584', '684773700', '481335498', '63804823', '886359414', '894456815', '608044830', '796834008', '410148577', '458480732', '440839534', '414895483', '183458444', '98032846', '449825303', '4347877', '894331534', '413084795', '98473845', '941853414', '800806134', '448340559', '548493905', '143585941', '154348955', '451937448', '543005835', '450918349', '138426433', '374409458', '347454874', '55374448', '406088330', '242336834', '449380335', '94285943', '8680340', '896043545', '844438263', '984351344', '853586543', '44861275', '757460481', '149184536', '34841954', '434842068', '480780370', '700476873', '430048959', '498514453', '830345494', '498431885', '470770883', '533449118', '304908845', '304897707', '248144539', '485079043', '864308431', '888454431', '23444888', '842834348', '398050634', '641845341', '23479854', '718447935', '94482630', '45483129', '477037008', '398640453', '291544831', '449685391', '342459480', '200436818', '594398134', '340435890', '188934544', '788434544', '357464980', '534344758', '184176054', '476840915', '244810834', '360008548', '398458401', '463580030', '980434544', '313843657', '404743828', '300986443', '300746998', '804234336', '945498331', '345804953', '18803406', '489491235', '463420132', '241440857', '604879032', '586440793', '384350059', '864672534', '314458067', '494485743', '978376004', '815449843', '344132216', '418906354', '670704839', '846030028', '49435881', '643985481', '584354841', '877070345', '894860543', '406038880', '465148047', '634308214', '455012224', '410584346', '850345490', '941348954', '538249504', '438641428', '304184519', '841866300', '994413058', '800038462', '461583494', '348245840', '415943835', '345895045', '834460590', '598314242', '303089643', '159144348', '564183844', '890935443', '595484313', '195445873', '833549144', '479541038', '470435983', '134569874', '441332985', '853401944', '479543580', '433124488', '43868104', '208044457', '495731484', '493487511', '554781434', '481456394', '98360942', '4736698', '463018490', '514918634', '703477830', '448014395', '914658034', '44729853', '454574438', '463550489', '810743077', '14544398', '311424488', '598338748', '438245147', '482413584', '346485441', '48836071', '251449183', '173804346', '149348456', '598144534', '434721589', '159544384', '749684513', '413858429', '143060897', '875404713', '403489594', '545559515', '158494739', '462803903', '541483093', '914463380', '410748754']\n",
      "['N', 'Y']\n",
      "['N', '40/41']\n",
      "['3', '1', '4', '6', '13', '2', '5', '12', '15', '8', '7', '16', '0', '14', '10', '11', '9']\n",
      "['PROB', 'DISC']\n",
      "['JAUNDICE;PAINABDO;WEAK', 'FEVER;RASH;VOMIT;WEAK', 'DARKU;DIARR;FEVER;JAUNDICE;PAINABDO;STOPAL;VOMIT;WEAK', 'WEAK', 'DIARR;FEVER;JAUNDICE;PAINABDO;VOMIT', 'FEVER;HEAD;PAINABDO;VOMIT;WEAK', 'ANO;DIARR;FEVER;HEPATOME;PAINABDO;RASH;RESP;SORETHR;VOMIT', 'JAUNDICE;PAINABDO;RESP;STOPAL;WEAK', 'DIARR;PAINABDO;RASH', 'JAUNDICE;STOPAL;VOMIT;WEAK', 'FEVER', 'DIARR;JAUNDICE;STOPAL;WEAK', 'DIARR;FEVER;JAUNDICE;STOPAL;VOMIT;WEAK', 'PAINABDO', 'FEVER;O;STOBLO;VOMIT', 'FEVER;PAINABDO;RESP;VOMIT;WEAK', 'DIARR;HEAD;JAUNDICE;PAINABDO;WEAK', 'DIARR;JAUNDICE;VOMIT;WEAK', 'FEVER;HEAD;JAUNDICE;PAINABDO;VOMIT', 'DIARR;FEVER;JAUNDICE;O;PAINABDO;RASH;RESP;VOMIT;WEAK', 'DIARR;PAINABDO;RESP;VOMIT;WEAK', 'O', 'DARKU;HEPATOME;JAUNDICE;O;PAINABDO;VOMIT', 'JAUNDICE;O;PAINABDO;STOPAL;VOMIT;WEAK', 'DIARR;FEVER;PAINABDO;RESP;VOMIT;WEAK', 'FEVER;O;VOMIT', 'DARKU;JAUNDICE;PAINABDO;RESP;STOPAL;VOMIT;WEAK', 'ANO;O;RESP;WEAK', 'DIARR;FEVER;VOMIT', 'JAUNDICE;PAINABDO;VOMIT', 'FEVER;JAUNDICE;PAINABDO;STOPAL', 'DIARR;JAUNDICE;PAINABDO;STOPAL;VOMIT;WEAK', 'DIARR;FEVER;PAINABDO;VOMIT;WEAK', 'DARKU;JAUNDICE;PAINABDO;VOMIT', 'DARKU;JAUNDICE;O;PAINABDO;RASH;STOPAL;VOMIT;WEAK', 'RASH;STOPAL;WEAK', 'CONJ;FEVER;JAUNDICE;PAINABDO;RASH;RESP;STOPAL;VOMIT;WEAK', 'FEVER;PAINABDO;RASH', 'DIARR;FEVER;HEAD;PAINABDO;RASH;VOMIT', 'FEVER;RASH', 'JAUNDICE;O;PAINABDO;WEAK', 'DIARR;FEVER;RESP', 'JAUNDICE;O;PAINABDO;VOMIT;WEAK', 'DIARR;RESP', 'FEVER;WEAK', 'DIARR;JAUNDICE;PAINABDO;RESP;VOMIT;WEAK', 'VOMIT', 'FEVER;PAINABDO;VOMIT;WEAK', 'ANO;JAUNDICE;WEAK', 'DARKU;JAUNDICE;RESP;WEAK', 'ANO;RESP', 'JAUNDICE;VOMIT', 'JAUNDICE', 'FEVER;O;VOMIT;WEAK', 'DARKU;O', 'DIARR', 'O;RASH', 'JAUNDICE;VOMIT;WEAK', 'FEVER;PAINABDO;VOMIT', 'FEVER;JAUNDICE;VOMIT', 'ASY', 'FEVER;HEPATOME', 'FEVER;JAUNDICE;PAINABDO;VOMIT;WEAK', 'DARKU;FEVER;IRR;JAUNDICE;VOMIT;WEAK', 'RASH;VOMIT']\n",
      "['Armenia', 'South Africa', 'San Marino', 'New Zealand', 'Germany', 'Isle of Man', 'Bangladesh', 'Malta', 'Canada', 'Lithuania', 'Malaysia', 'Guatemala', 'France', 'Slovakia', 'Montenegro', 'Ukraine', 'Philippines', 'Poland', 'Portugal', 'Kuwait']\n",
      "['2022-04-25', '2022-04-17', '2022-03-16', '2022-05-08', '2022-05-24', '2022-04-16', '2022-05-05', '2022-04-28', '2022-02-19', '2022-05-04', '2022-04-21', '2022-04-03', '2022-03-28', '2022-01-30', '2022-03-30', '2022-04-05', '2022-04-06', '2022-04-22', '2022-01-20', '2022-03-11', '2022-03-29', '2022-04-01', '2022-04-18', '2022-03-14', '2022-05-03', '2022-03-06', '2022-03-25', '2022-02-23', '2022-05-02', '2022-04-30', '2022-01-25', '2022-03-27', '2021-12-13', '2022-03-22', '2022-01-13', '2022-05-01', '2022-01-19', '2022-04-26', '2022-04-24', '2022-01-04', '2022-04-12', '2022-03-01', '2022-04-15', '2022-02-22', '2022-04-29', '2022-04-14', '2022-04-10', '2022-04-04', '2022-01-22', '2022-04-13', '2022-01-08', '2022-03-20', '2022-04-02', '2022-05-09', '2022-05-19', '2022-05-14', '2022-02-04', '2022-02-26', '2022-02-17', '2021-12-20', '2022-05-25', '2022-03-23', '2022-03-31', '2022-03-15', '2022-02-14', '2022-04-27', '2021-12-08', '2022-05-07', '2022-05-22', '2022-02-13', '2022-04-11', '2022-05-12', '2022-01-09', '2022-02-16', '2022-04-19', '2022-01-29', '2022-04-09', '2022-05-13', '2022-05-20', '2022-05-17', '2022-04-20', '2022-05-21', '2022-02-18', '2022-01-27', '2022-04-07', '2021-12-24', '2022-03-21', '2022-05-11', '2022-01-24', '2022-01-31', '2022-03-02', '2022-05-06', '2022-05-16', '2022-05-18', '2022-03-13', '2022-02-09', '2021-12-21', '2022-01-26']\n",
      "['2022-01-23', '2022-01-31', '2022-02-08', '2022-01-15', '2022-05-14', '2022-03-24', '2022-03-13', '2022-05-19', '2022-01-11', '2022-05-04', '2022-04-08', '2022-04-23', '2022-05-03', '2022-03-15', '2022-03-31', '2022-04-16', '2022-03-21', '2021-04-14', '2022-02-24', '2022-04-20', '2022-04-10', '2022-03-17', '2022-04-24', '2020-05-20', '2022-03-11', '2022-04-01', '2022-05-10', '2022-04-11', '2022-04-26', '2022-04-17', '2022-04-25', '2022-02-28', '2022-04-13', '2022-03-23', '2022-03-06', '2022-03-14', '2022-05-23', '2021-12-01', '2022-04-07', '2022-03-01', '2022-02-04', '2022-03-28', '2022-05-05', '2022-05-20', '2022-01-20', '2022-03-12', '2022-02-15', '2022-04-29', '2022-05-02', '2022-01-07', '2022-05-07', '2022-01-26', '2022-03-19', '2022-04-22', '2022-05-16', '2022-05-11', '2021-11-05', '2021-11-30', '2022-02-05', '2022-05-09', '2022-04-03', '2022-01-27', '2022-04-28', '2022-01-21', '2022-05-13', '2022-04-09', '2022-04-30', '2022-03-20', '2022-03-30', '2022-03-25', '2022-01-12', '2022-05-25', '2022-03-26', '2022-03-02', '2022-03-27', '2022-01-01', '2022-04-05', '2022-03-05', '2022-02-20', '2022-03-10', '2022-05-18', '2022-04-04', '2022-02-23', '2022-04-15', '2022-01-25', '2022-04-27', '2022-05-17', '2022-02-17', '2022-03-04', '2022-05-01', '2021-12-15', '2022-01-29', '2022-02-13', '2022-05-08', '2022-03-22']\n",
      "['M', 'F']\n",
      "['Y', 'N']\n",
      "['ALIVE', 'STILLTREATMENT', 'DIEDNOVHEP']\n",
      "['Azerbaijan', 'Cuba', 'Slovakia', 'Albania', 'Ukraine', 'Taiwan', 'Bosnia & Herzegovina', 'Lebanon', 'Croatia', 'Dominican Republic', 'Iraq', 'Ecuador', 'Guatemala', 'Armenia', 'Greece', 'North Macedonia', 'Denmark', 'Morocco', 'United States', 'Gibraltar', 'Haiti', 'Spain', 'Jersey', 'San Marino', 'Peru', 'Belgium', 'Bangladesh', 'Italy', 'Costa Rica', 'Portugal', 'Austria', 'Venezuela', 'Egypt', 'Kyrgyzstan', 'Fiji', 'Moldova', 'Serbia', 'Kuwait', 'Bolivia', 'Bulgaria', 'Latvia', 'Jamaica', 'Cambodia', 'Vietnam', 'India', 'South Korea', 'Turkey', 'Jordan', 'Isle of Man', 'Guernsey', 'Suriname', 'Netherlands', 'Kazakhstan', 'Russia']\n",
      "['NEUROMUS', 'O', 'CARDIACDIS;O', 'HYPERT;METAB', 'GASTRO', 'DIAB', 'ASTH', 'NONE;UNK', 'LIVER', 'PREG', 'METAB;UNK', 'NONE']\n",
      "['NO', 'EPILEPSY', 'Uncomplicated down syndrome', 'haemanglioom', 'prematurity_ chylothorax in the neonatal period_ heart murmurs', \"congenital heart defect_ Down's syndrome\", 'PFAPA', 'allergy (urticarial)']\n",
      "['Y', 'N']\n",
      "['COM', 'MOD']\n",
      "['2021-12-07', '2021-08-30', '2021-09-14', '2022-01-04', '2022-01-30']\n",
      "['NOTVACC', 'DOSEUNK', '2DOSE']\n",
      "['NOVHEP']\n",
      "['4694466', '4863561', '4849178', '4734363', '4826173', '4660052', '4656336', '4664586', '4664739', '4664634', '4884706', '4795533', '4665474', '4655807', '4708319', '4760381', '4664542', '4656110', '4711619', '4759598', '4763668', '4679038', '4735353', '4665723', '4696164', '4777837', '4614371', '4712772', '4665699', '4711563', '4664777', '4664105', '4692699', '4665159', '4788364', '4694765', '4677618', '4759270', '4601266', '4713557', '4708238', '4656168', '4604179', '4665693', '4735376', '4663965', '4787369', '4624471', '4708154', '4645589', '4776923', '4795062', '4663961', '4665915', '4708184', '4723895', '4779355', '4665686', '4760207', '4735760', '4660082', '4598853', '4679650', '4665873', '4680185', '4624448', '4656314', '4691589', '4644999', '4663201', '4665421', '4696467', '4602255', '4655856', '4661060', '4663827', '4864221', '4665500', '4694109', '4708287', '4707330', '4710022', '4794232', '4680714', '4665688', '4665662', '4679633', '4656784', '4665455', '4665651', '4665703', '4712441', '4764435', '4665886', '4724154', '4694549', '4679404', '4776915', '4735381', '4762959', '4760734', '4665667', '4735688', '4658605', '4680903', '4710889', '4711205', '4736823', '4747416', '4696083', '4735314']\n",
      "['Cholera']\n",
      "['240131_46655002', '240114_4624378', '240416_47873702', '240214_46941092', '240114_46244481', '240614_48612741', '240220_47073301', '240131_46651582', '240213_46926992', '240306_47357602', '240315_47618671', '240409_47830951', '240314_47607342', '240228_47120261', '240227_47112052', '240227_47116192', '240116_46454782', '240201_46656992', '240117_46563142', '240223_47097752', '240114_4624471', '240201_46656672', '240201_46657312', '240221_47080982', '240618_46960831', '240130_46647782', '240130_46645082', '240319_47636822', '240131_46654552', '240123_46600402', '240201_46657032', '240130_46647582', '240209_46915893', '240214_46941432', '240220_47076022', '240228_47124412', '240221_47082872', '240130_46645422', '240213_46929422', '240213_46928481', '240130_46647772', '240215_46944692', '240226_47109121', '240615_48619151', '240113_46143713', '240201_46656772', '240123_46600522', '240618_46613611', '240130_46646342', '240312_4759541', '240201_46658962', '240122_46586052', '240320_4764435', '240131_46654212', '240101_45981471', '240117_46558072', '240313_47603812', '240318_4762959', '240221_47083191', '240201_46656622', '240201_46657182', '240130_46641053', '240429_47942321', '240326_47769231', '240201_46656512', '240219_4696415', '240201_46656432', '240215_46947642', '240201_46658731', '240307_47368232', '240206_46789641', '240124_46610601', '240520_4826173', '240215_46944662', '240313_47602072', '240129_46639612', '240219_46961631', '240221_47083321', '240205_46776181', '240207_46797452', '240201_46656882', '240201_46657412', '240403_47800951', '240305_47353812', '240129_46639672', '240226_47108891', '240430_47950621', '240207_46796331', '240207_46794043', '240209_46809031', '240117_46561682', '240109_46012661', '240416_47873812', '240131_46654002', '240619_48635613', '240618_47769151', '240119_46576392', '240221_47082382', '240131_46654412', '240118_46567842', '240129_46639652', '240207_46796501', '240117_46558562', '240205_46778721', '240305_47353531', '240618_47103671']\n",
      "['Suspected case', 'Clinical notification', 'Discarded case', 'Laboratory notification', 'Confirmed case']\n",
      "['2024-03-09', '2024-01-26', '2024-01-11', '2024-01-21', '2024-06-10', '2024-01-28', '2024-01-20', '2024-01-14', '2024-06-17', '2024-02-13', '2024-03-01', '2024-03-14', '2024-04-07', '2024-03-05', '2024-01-30', '2024-03-31', '2024-01-08', '2024-01-29', '2024-01-27', '2024-05-06', '2024-01-31', '2024-01-22', '2024-02-09', '2024-03-18', '2024-01-15', '2024-01-12', '2024-02-21', '2024-01-05', '2024-02-06', '2024-02-08', '2024-02-16', '2024-02-01', '2024-02-07', '2024-02-27', '2024-02-17', '2024-02-28', '2024-01-23', '2024-04-10', '2024-01-10', '2024-01-25', '2024-01-16', '2024-02-29', '2024-02-25', '2024-02-18', '2024-02-23', '2023-12-27', '2024-03-03', '2024-02-14', '2024-03-10', '2024-02-03', '2024-03-20', '2024-02-05', '2024-02-19', '2024-03-16', '2024-02-12']\n",
      "['2024-01-28', '2024-03-28', '2024-01-31', '2024-02-06', '2024-03-01', '2024-01-15', '2024-02-27', '2024-04-12', '2024-03-12', '2024-03-19', '2024-01-12', '2024-03-04', '2024-03-05', '2024-01-29', '2024-01-30', '2024-03-13', '2023-12-28', '2024-01-21', '2024-01-03', '2024-02-13', '2024-02-14', '2024-03-20', '2024-01-16', '2024-01-26', '2024-02-20', '2024-01-17', '2024-02-08', '2024-01-13', '2024-02-07', '2024-03-14', '2024-01-23', '2024-02-01', '2024-02-26', '2024-04-08', '2024-01-27', '2024-02-12', '2024-02-19', '2024-03-25', '2024-04-29', '2024-01-22', '2024-03-02', '2024-02-29', '2024-01-08', '2024-02-11', '2024-01-24', '2023-12-30', '2024-04-01', '2024-06-13', '2024-02-28', '2024-01-18', '2024-02-15', '2024-01-11', '2024-02-22', '2024-05-24']\n",
      "['Clinical signs and symptoms ONLY', 'Laboratory confirmed', 'Other']\n",
      "['2024-02-01', '2024-01-19', '2024-02-13', '2024-03-01', '2024-02-26', '2024-02-12', '2024-01-31', '2024-03-13', '2024-01-29', '2024-03-06', '2024-04-30', '2024-02-28', '2024-02-29', '2024-02-23', '2024-01-30', '2024-02-14', '2024-05-20', '2024-02-20', '2024-02-22', '2024-01-17', '2024-06-15', '2024-01-12', '2024-02-18', '2024-07-16', '2024-04-29', '2024-01-23', '2024-02-21', '2024-02-11', '2024-01-14', '2024-02-09', '2024-02-08', '2024-03-05', '2024-01-24', '2024-01-15', '2024-02-05', '2024-01-16', '2024-03-04', '2024-04-03', '2024-01-13', '2024-03-12', '2024-04-01', '2024-02-07', '2024-03-18', '2024-03-02', '2024-02-27', '2024-03-15', '2024-03-19', '2024-01-01', '2024-02-19', '2024-01-18']\n",
      "['48.0', '39.0', '8.0', '61.0', '24.0', '42.0', '34.0', '9.0', '55.0', '29.0', '27.0', '19.0', '86.0', '41.0', '7.0', '44.0', '14.0', '28.0', '15.0', '2.0', '5.0', '33.0', '23.0', '36.0', '79.0', '37.0', '49.0', '26.0', '17.0', '32.0', '54.0', '6.0', '12.0', '38.0', '11.0', '47.0', '73.0', '40.0', '59.0', '13.0', '30.0', '16.0', '63.0', '64.0', '72.0', '52.0', '58.0', '20.0', '76.0', '35.0', '3.0', '66.0', '4.0']\n",
      "['Female', 'Male']\n",
      "['Alive', 'Deceased']\n",
      "['2024-02-09', '2024-02-22', '2024-01-29', '2024-01-30', '2024-03-12', '2024-03-01']\n",
      "['Outpatient', 'Inpatient', 'Discharged', 'Transferred']\n",
      "['No', 'Yes']\n",
      "['Not Pregnant']\n",
      "['Profuse watery diarrhea|', 'Rice-water stools|', 'Severe dehydration|Vomiting|Profuse watery diarrhea|', 'Profuse watery diarrhea|Severe dehydration|', 'Profuse watery diarrhea|Vomiting|Severe dehydration|', 'Profuse watery diarrhea|Vomiting|', 'Rice-water stools|Vomiting|', 'Profuse watery diarrhea|Severe dehydration|Vomiting|', 'Severe dehydration|Profuse watery diarrhea|', 'Vomiting|Profuse watery diarrhea|', 'Profuse watery diarrhea|Rice-water stools|Severe dehydration|', 'Vomiting|', 'Vomiting|Severe dehydration|Profuse watery diarrhea|', 'Vomiting|Rice-water stools|', 'Profuse watery diarrhea|Rice-water stools|Vomiting|', 'Vomiting|Severe dehydration|Rice-water stools|Profuse watery diarrhea|', 'Rice-water stools|Severe dehydration|Vomiting|', 'Vomiting|Profuse watery diarrhea|Severe dehydration|', 'Profuse watery diarrhea|Severe dehydration|Rice-water stools|', 'Profuse watery diarrhea|Rice-water stools|', 'Vomiting|Rice-water stools|Profuse watery diarrhea|Severe dehydration|', 'Severe dehydration|']\n",
      "['Black African']\n",
      "['Not employed', 'Other']\n",
      "['Pensioner', 'Scholar', 'Grant Administrator']\n",
      "['Yes', 'No']\n",
      "['No', 'Yes']\n",
      "['No']\n",
      "['No']\n",
      "['No']\n",
      "['No']\n",
      "['No']\n",
      "['No', 'Yes']\n",
      "['Yes', 'No']\n",
      "['Cholera', 'Nil']\n",
      "['No']\n",
      "['No']\n",
      "['No Contact|', '|']\n",
      "['Discharged Alive', 'Admitted']\n",
      "['Zimbabwe', 'Democratic Republic of the Congo', 'Angola', 'Sierra Leone', 'Mauritius', 'Egypt', 'Liberia', 'Sudan', 'South Sudan', 'Cameroon', 'Rwanda', 'Nigeria', 'Kenya', 'Burundi']\n",
      "['2025-02-23', '2025-03-02', '2025-02-02', '2024-10-06', '2024-12-29', '2025-02-16', '2024-12-22']\n",
      "['Clade Ib', 'Clade II (a and/or b)', 'Clades Ia and Ib', 'Clades Ib and II (a and/or b)', 'No information', 'Clades Ia and II (a and/or b)']\n",
      "['18', '11', '13', '15', '20', '16', '19']\n",
      "['Yes', '6/2/2022', '6/1/2022', '5/28/2022', '5/31/2022']\n",
      "['Cuba', 'Chile', 'Venezuela', 'Ecuador', 'Jamaica']\n",
      "['2022-05-19', '2022-05-09', '2022-05-17', '2022-05-16', '2022-05-23']\n",
      "['Yes', 'No']\n",
      "['we dont have this variable']\n",
      "['2022-05-25', '2022-06-01', '2022-05-31', '2022-05-27', '2022-05-26']\n",
      "['N']\n"
     ]
    }
   ],
   "execution_count": 40
  },
  {
   "metadata": {
    "ExecuteTime": {
     "end_time": "2025-05-05T12:50:32.421589Z",
     "start_time": "2025-05-05T12:50:32.415341Z"
    }
   },
   "cell_type": "code",
   "source": [
    "# TODO: Note that we still have problem with a not found values, we need to clean more deeply and better.\n",
    "# TODO: Moreover, we can see that sherlock french word embeddings NaN"
   ],
   "id": "8e661be022478312",
   "outputs": [],
   "execution_count": 10
  },
  {
   "metadata": {},
   "cell_type": "markdown",
   "source": "## Labels",
   "id": "994ddcdf6dac4271"
  },
  {
   "metadata": {
    "ExecuteTime": {
     "end_time": "2025-05-05T13:04:37.169372Z",
     "start_time": "2025-05-05T13:04:37.153122Z"
    }
   },
   "cell_type": "code",
   "source": [
    "import pandas as pd\n",
    "labels = pd.read_parquet(\"../sherlock_data_processing/labels.parquet\")\n",
    "print(labels.columns)\n",
    "print(labels.shape)\n",
    "print(labels[:5])\n",
    "print(labels.index.name)"
   ],
   "id": "805a98e26adaa8da",
   "outputs": [
    {
     "name": "stdout",
     "output_type": "stream",
     "text": [
      "Index(['type'], dtype='object')\n",
      "(85, 1)\n",
      "         type\n",
      "0          ID\n",
      "1          ID\n",
      "2          ID\n",
      "3  Contact_ID\n",
      "4         Age\n",
      "None\n"
     ]
    }
   ],
   "execution_count": 41
  },
  {
   "metadata": {
    "ExecuteTime": {
     "end_time": "2025-05-05T13:04:48.114900Z",
     "start_time": "2025-05-05T13:04:48.107290Z"
    }
   },
   "cell_type": "code",
   "source": [
    "y_train = np.array([x.lower() for x in labels])\n",
    "print(y_train)"
   ],
   "id": "b6ec47eaf9d4a359",
   "outputs": [
    {
     "name": "stdout",
     "output_type": "stream",
     "text": [
      "['type']\n"
     ]
    }
   ],
   "execution_count": 43
  },
  {
   "metadata": {},
   "cell_type": "code",
   "outputs": [],
   "execution_count": null,
   "source": "",
   "id": "4f94d9b4ab6d6e6b"
  }
 ],
 "metadata": {
  "kernelspec": {
   "display_name": "Python 3",
   "language": "python",
   "name": "python3"
  },
  "language_info": {
   "codemirror_mode": {
    "name": "ipython",
    "version": 2
   },
   "file_extension": ".py",
   "mimetype": "text/x-python",
   "name": "python",
   "nbconvert_exporter": "python",
   "pygments_lexer": "ipython2",
   "version": "2.7.6"
  }
 },
 "nbformat": 4,
 "nbformat_minor": 5
}
