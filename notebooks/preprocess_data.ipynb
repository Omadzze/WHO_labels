{
 "cells": [
  {
   "metadata": {
    "ExecuteTime": {
     "end_time": "2025-05-23T11:35:42.365166Z",
     "start_time": "2025-05-23T11:35:42.360983Z"
    }
   },
   "cell_type": "code",
   "source": [
    "import os\n",
    "import re\n",
    "\n",
    "def next_who_filename(output_dir, prefix=\"WHO\", ext=\"csv\", width=3):\n",
    "    \"\"\"\n",
    "    Ensures output_dir exists, then looks inside it for files like WHO_001.csv,\n",
    "    WHO_002.csv, etc., finds the highest number, and returns the FULL PATH\n",
    "    for the next file (e.g. './tables/WHO_003.csv').\n",
    "    \"\"\"\n",
    "    # 1) make sure the directory exists\n",
    "    os.makedirs(output_dir, exist_ok=True)\n",
    "\n",
    "    # 2) build regex to match names like WHO_001.csv\n",
    "    pattern = re.compile(rf\"^{re.escape(prefix)}_(\\d{{{width}}})\\.{re.escape(ext)}$\")\n",
    "    max_num = 0\n",
    "\n",
    "    # 3) scan the directory for existing matches\n",
    "    for fname in os.listdir(output_dir):\n",
    "        m = pattern.match(fname)\n",
    "        if m:\n",
    "            num = int(m.group(1))\n",
    "            max_num = max(max_num, num)\n",
    "\n",
    "    # 4) compute the next number, zero–padded\n",
    "    next_num = max_num + 1\n",
    "    new_fname = f\"{prefix}_{next_num:0{width}d}.{ext}\"\n",
    "\n",
    "    # 5) return the *full* path, not just the basename\n",
    "    return os.path.join(output_dir, new_fname), new_fname\n"
   ],
   "id": "91635689db5e5e03",
   "outputs": [],
   "execution_count": 1
  },
  {
   "metadata": {
    "ExecuteTime": {
     "end_time": "2025-05-23T11:35:43.632385Z",
     "start_time": "2025-05-23T11:35:43.630320Z"
    }
   },
   "cell_type": "code",
   "source": "",
   "id": "cad713258a64d4d1",
   "outputs": [],
   "execution_count": null
  },
  {
   "cell_type": "code",
   "id": "initial_id",
   "metadata": {
    "collapsed": true,
    "ExecuteTime": {
     "end_time": "2025-05-23T12:53:52.177768Z",
     "start_time": "2025-05-23T12:53:51.860795Z"
    }
   },
   "source": [
    "from langdetect import detect, DetectorFactory\n",
    "import pandas as pd\n",
    "import os\n",
    "import re\n",
    "\n",
    "name = \"hepatitis@2022-W23_dataset@Sheet1.tmp.xlsx\"\n",
    "\n",
    "# 1) point to your file\n",
    "excel_path = f\"../processed_tables/{name}\"\n",
    "\n",
    "# 2) load the 'data' sheet\n",
    "df_data = pd.read_excel(excel_path, sheet_name='data')\n",
    "\n",
    "# 3) extract headers and make comma-separated string\n",
    "columns = df_data.columns.tolist()\n",
    "columns_str = ','.join(columns)\n",
    "\n",
    "# 4) for each column, find the first non-null value (or None if none exists)\n",
    "first_values = []\n",
    "for col in columns:\n",
    "    non_null = df_data[col].dropna()\n",
    "    if len(non_null) > 0:\n",
    "        first_values.append(str(non_null.iloc[0]))\n",
    "    else:\n",
    "        first_values.append(None)\n",
    "\n",
    "# 5) make a comma-separated string of those first values\n",
    "#    (you’ll get 'None' only for columns that have no values at all)\n",
    "values_str = ','.join(v if v is not None else 'None' for v in first_values)\n",
    "\n",
    "output_folder = \"../tables\"  # change this to your real path\n",
    "os.makedirs(output_folder, exist_ok=True)\n",
    "\n",
    "# Compute next filename:\n",
    "out_path, table_name = next_who_filename(output_folder)\n",
    "# Save:\n",
    "df_data.to_csv(out_path, index=False)\n",
    "\n",
    "# read dictionary\n",
    "df_dict = pd.read_excel(excel_path, sheet_name='dictionary')\n",
    "df_dict.to_string()\n",
    "\n",
    "\n",
    "prompt = \"You are an schema matching ai agent. You will be provided with column names and column values as well as unified schema. Your task is to find columns that are matching with unifed schema. First I will provide to you column names and column values and unified schema. Then you will provided with dictionary. Output in the following format: {table_name},{column_id},{unified_label}. Note that table name will be provided to you, column id always starts with 0, unified label should be taken from a unified schema. Also, not all processed_tables have relative column names and you will be working in domain of epidimiological data.\"\n",
    "\n",
    "output_txt = os.path.join(\"../output\", \"output.txt\")\n",
    "\n",
    "# Open in write mode ('w' will always recreate the file)\n",
    "with open(output_txt, \"w\", encoding=\"utf-8\") as f:\n",
    "    f.write(f\"Table name: {table_name}\\n\\n\")\n",
    "    f.write(\"Column names:\\n\")\n",
    "    f.write(columns_str + \"\\n\\n\")\n",
    "    f.write(\"Column values:\\n\")\n",
    "    f.write(values_str + \"\\n\\n\")\n",
    "    f.write(\"Dictionary: \\n\")\n",
    "    f.write(df_dict.to_string() + \"\\n\")\n",
    "    f.write(\"\\n\")\n",
    "\n",
    "print(f\"Saved table {table_name} with all outputs from {excel_path}\")\n",
    "\n",
    "\n",
    "#DetectorFactory.seed = 0\n",
    "\n",
    "#text_sample = ' '.join(str(value) for value in df_data.iloc[0].values)\n",
    "\n",
    "#language = detect(text_sample)\n",
    "\n",
    "#print(f\"Detected language: {language}\")\n",
    "#print(f\"Table name: {out_path}\")\n",
    "# 6) print out results\n",
    "#print(\"Column names:\")\n",
    "#print(columns_str)\n",
    "#print(\"\")\n",
    "#print(\"Column values:\")\n",
    "#print(values_str)\n"
   ],
   "outputs": [
    {
     "name": "stdout",
     "output_type": "stream",
     "text": [
      "Saved table WHO_039.csv with all outputs from ../processed_tables/hepatitis@2022-W23_dataset@Sheet1.tmp.xlsx\n"
     ]
    }
   ],
   "execution_count": 20
  },
  {
   "metadata": {
    "ExecuteTime": {
     "end_time": "2025-04-28T10:44:40.542300Z",
     "start_time": "2025-04-28T10:44:40.531909Z"
    }
   },
   "cell_type": "code",
   "source": [
    "df_dict = pd.read_excel(excel_path, sheet_name='dictionary')\n",
    "print(\"Dictionary:\")\n",
    "print(df_dict)  # in Jupyter this will render as a nice table"
   ],
   "id": "1ee3008315ddf99b",
   "outputs": [
    {
     "name": "stdout",
     "output_type": "stream",
     "text": [
      "Dictionary:\n",
      "            variable_name                                variable_definition\n",
      "0                RecordId                   Unique identifier for the record\n",
      "1         AdenoRespResult                 Adenovirus respiratory test result\n",
      "2            AdenoSeqDone   Indicator if adenovirus sequencing was performed\n",
      "3        AdenoSerumResult                       Adenovirus serum test result\n",
      "4        AdenoStoolResult                       Adenovirus stool test result\n",
      "5           AdenotypeDone       Indicator if adenovirus typing was performed\n",
      "6       AdenotypeSpecimen           Specimen type used for adenovirus typing\n",
      "7              Adenovtype                         Adenovirus type identified\n",
      "8   AdenoWholeBloodResult                 Adenovirus whole blood test result\n",
      "9          AdmittedICUHDU                   Indicator if admitted to ICU/HDU\n",
      "10      AdmittedTransUnit           Indicator if admitted to transplant unit\n",
      "11            ADVSequence  If sequencing done, what adenovirus type ident...\n",
      "12                    Age                        Age of the subject in years\n",
      "13               AgeMonth                       Age of the subject in months\n",
      "14         Classification                       Case classification category\n",
      "15       ClinicalSymptoms                         Reported clinical symptoms\n",
      "16            CountryName                    Country where case was reported\n",
      "17            DateOfDeath                        Date of death if applicable\n",
      "18  DateOfHospitalisation                         Date of hospital admission\n",
      "19            DateOfOnset                              Date of symptom onset\n",
      "20  DateUsedForStatistics           Date used for epidemiological statistics\n",
      "21                EpiLink                    Epidemiological link identifier\n",
      "22                 Gender                              Gender of the subject\n",
      "23        Hospitalisation                             Hospitalisation status\n",
      "24                Outcome                       Clinical outcome of the case\n",
      "25       PlaceOfResidence                     Geographic region of residence\n",
      "26           Precondition                    Pre-existing medical conditions\n",
      "27      PreconditionOther            Other specified pre-existing conditions\n",
      "28           PrevSARSCoV2               Previous SARS-CoV-2 infection status\n",
      "29             RecordType                           Type of record submitted\n",
      "30      RecordTypeVersion                         Version of the record type\n",
      "31       ReportingCountry                      Country submitting the record\n",
      "32            SARSCoV2PCR                         SARS-CoV-2 PCR test result\n",
      "33        SARSCoV2PCRDate                        Date of SARS-CoV-2 PCR test\n",
      "34       SARSCov2Serology                    SARS-CoV-2 serology test result\n",
      "35  SARSCoV2VaccLastBrand             Last SARS-CoV-2 vaccine brand received\n",
      "36   SARSCoV2VaccLastDate                Date of last SARS-CoV-2 vaccination\n",
      "37     SARSCoV2VaccStatus                      SARS-CoV-2 vaccination status\n",
      "38                Subject                                 Disease identifier\n",
      "39             Transplant                        Transplant recipient status\n"
     ]
    }
   ],
   "execution_count": 17
  },
  {
   "metadata": {},
   "cell_type": "code",
   "outputs": [],
   "execution_count": null,
   "source": "#TODO: Append all output to one .txt file to put simply to chat GPT with a created prompt",
   "id": "3095629fdd062ab9"
  },
  {
   "metadata": {
    "ExecuteTime": {
     "end_time": "2025-05-15T14:00:07.118993Z",
     "start_time": "2025-05-15T14:00:07.114908Z"
    }
   },
   "cell_type": "code",
   "source": [
    "LABEL_MAP = {\n",
    "    # Date\n",
    "    \"Vaccination_date\": \"date\",\n",
    "    \"Date_report\":\"date\",\n",
    "    \"Date_onset\":  \"date\",\n",
    "    \"Date_confirmation\": \"date\",\n",
    "    \"Date_of_first_consultation\":\"date\",\n",
    "    \"Date_hospitalisation\":  \"date\",\n",
    "    \"Date_discharge_hospital\": \"date\",\n",
    "    \"Date_admission_ICU\":   \"date\",\n",
    "    \"Date_discharge_ICU\":  \"date\",\n",
    "    \"Date_isolation\":  \"date\",\n",
    "    \"Date_death\":  \"date\",\n",
    "    \"Date_recovered\":  \"date\",\n",
    "    \"Travel_history_entry\": \"date\",\n",
    "    \"Travel_history_start\":  \"date\",\n",
    "    \"Date_entry\":  \"date\",\n",
    "    \"Date_last_modified\": \"date\",\n",
    "\n",
    "    # ID\n",
    "    \"Contact_ID\": \"id\",\n",
    "    \"ID\": \"id\",\n",
    "\n",
    "    #Gender\n",
    "    \"Gender\": \"gender\",\n",
    "    \"Sex_at_birth\": \"gender\",\n",
    "    \"Gender_other\": \"gender\",\n",
    "    \"Sex_at_birth_other\": \"gender\",\n",
    "\n",
    "    #Location\n",
    "    \"Travel_history_location\": \"location\",\n",
    "    \"Location_information\": \"location\",\n",
    "\n",
    "    # Contact setting\n",
    "    \"Contact_setting\": \"contact_setting\",\n",
    "    \"Contact_setting_other\": \"contact_setting\",\n",
    "\n",
    "    # demographic\n",
    "    \"Race\": \"demographic\",\n",
    "    \"Ehtnicity\": \"demographic\",\n",
    "\n",
    "    # Medical Boolean\n",
    "    \"Healthcare_worker\": \"medical_boolean\",\n",
    "    \"Previous_infection\": \"medical_boolean\",\n",
    "    \"Pregnancy_Status\": \"medical_boolean\",\n",
    "    \"Vaccination\":  \"medical_boolean\",\n",
    "    \"Hospitalised\":  \"medical_boolean\",\n",
    "    \"Intensive_care\":  \"medical_boolean\",\n",
    "    \"Home_monitoring\":  \"medical_boolean\",\n",
    "    \"Isolated\": \"medical_boolean\",\n",
    "    \"Contact_with_case\": \"medical_boolean\",\n",
    "    \"Travel_history\": \"medical_boolean\",\n",
    "\n",
    "    # Sourec\n",
    "    \"Source\": \"source\",\n",
    "    \"Source_II\": \"source\",\n",
    "    \"Source_III\": \"source\",\n",
    "    \"Source_IV\": \"source\",\n",
    "}"
   ],
   "id": "bf74b3f84165b810",
   "outputs": [],
   "execution_count": 1
  },
  {
   "metadata": {},
   "cell_type": "code",
   "outputs": [],
   "execution_count": null,
   "source": "",
   "id": "a59fed59a63e64b3"
  }
 ],
 "metadata": {
  "kernelspec": {
   "display_name": "Python 3",
   "language": "python",
   "name": "python3"
  },
  "language_info": {
   "codemirror_mode": {
    "name": "ipython",
    "version": 2
   },
   "file_extension": ".py",
   "mimetype": "text/x-python",
   "name": "python",
   "nbconvert_exporter": "python",
   "pygments_lexer": "ipython2",
   "version": "2.7.6"
  }
 },
 "nbformat": 4,
 "nbformat_minor": 5
}
