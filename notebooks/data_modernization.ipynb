{
 "cells": [
  {
   "cell_type": "code",
   "id": "initial_id",
   "metadata": {
    "collapsed": true,
    "ExecuteTime": {
     "end_time": "2025-04-29T13:03:17.099145Z",
     "start_time": "2025-04-29T13:03:17.086760Z"
    }
   },
   "source": [
    "import pandas as pd\n",
    "\n",
    "def load_table_with_labels(table_csv_path, gt_csv_path, table_name):\n",
    "    # 1. Load your ground‐truth labels\n",
    "    gt = pd.read_csv(gt_csv_path)\n",
    "    #    expects columns: ['table_name', 'column_index', 'label']\n",
    "\n",
    "    # 2. Filter to just the rows for this table, and keep only real labels\n",
    "    gt_tbl = gt[(gt['table_name'] == table_name) & (gt['label'] != \"__none__\")]\n",
    "\n",
    "    # 3. Get the list of column‐indices you want to load\n",
    "    cols_to_load = gt_tbl['column_index'].tolist()\n",
    "\n",
    "    # 4. Read only those columns from the CSV\n",
    "    #    (assumes no header row — if your CSV *does* have a header, pass header=0\n",
    "    #     and usecols can also take a list of names instead of ints)\n",
    "    df = pd.read_csv(table_csv_path, header=None, usecols=cols_to_load)\n",
    "\n",
    "    # 5. Rename the loaded columns to your ground‐truth labels (preserving order)\n",
    "    df.columns = gt_tbl.sort_values('column_index')['label'].tolist()\n",
    "\n",
    "    return df\n",
    "\n",
    "# Example usage:\n",
    "df = load_table_with_labels(\n",
    "    table_csv_path=\"../tables/WHO_001.csv\",\n",
    "    gt_csv_path=\"../gold/cta_gt.csv\",\n",
    "    table_name=\"WHO_001.csv\"\n",
    ")\n",
    "print(df.head())"
   ],
   "outputs": [
    {
     "name": "stdout",
     "output_type": "stream",
     "text": [
      "        ID   Pathogen               ID                     Case_status  \\\n",
      "0   CaseID  Condition          Case_ID  Epidemiological_Classification   \n",
      "1  4694466    Cholera  240131_46655002                  Suspected case   \n",
      "2  4863561    Cholera   240114_4624378                  Suspected case   \n",
      "3  4849178    Cholera  240416_47873702           Clinical notification   \n",
      "4  4734363    Cholera  240214_46941092           Clinical notification   \n",
      "\n",
      "     Date_onset Date_confirmation               Confirmation_method  \\\n",
      "0  Symptom_Date    Diagnosis_Date                  Diagnosis_Method   \n",
      "1    2024-03-09        2024-01-28  Clinical signs and symptoms ONLY   \n",
      "2    2024-01-26        2024-03-28  Clinical signs and symptoms ONLY   \n",
      "3    2024-01-26        2024-01-31              Laboratory confirmed   \n",
      "4    2024-01-11        2024-02-06  Clinical signs and symptoms ONLY   \n",
      "\n",
      "         Date_report          Age    Sex_at_birth  ... Pre_existing_condition  \\\n",
      "0  Notification_Date  Patient_Age  Patient_Gender  ...           CCMalignancy   \n",
      "1         2024-02-01         48.0          Female  ...                    NaN   \n",
      "2         2024-01-19         39.0            Male  ...                    NaN   \n",
      "3         2024-02-13         39.0            Male  ...                    NaN   \n",
      "4         2024-03-01          8.0            Male  ...                    NaN   \n",
      "\n",
      "  Pre_existing_condition Pre_existing_condition Pre_existing_condition  \\\n",
      "0       CCTypeMalignancy                   CCTB                  CCHIV   \n",
      "1                    NaN                    NaN                    NaN   \n",
      "2                    NaN                    NaN                    NaN   \n",
      "3                    NaN                    NaN                    NaN   \n",
      "4                    NaN                    NaN                    NaN   \n",
      "\n",
      "  Pre_existing_condition          Hospitalised              Travel_history  \\\n",
      "0                CCOther  PMHHospitalAdmission  InternationalTravel3months   \n",
      "1                    NaN                   NaN                         NaN   \n",
      "2                    NaN                   NaN                         NaN   \n",
      "3                    NaN                   NaN                         NaN   \n",
      "4                    NaN                   NaN                         NaN   \n",
      "\n",
      "       Contact_animal     Contact_comment           Outcome  \n",
      "0  ContactWithAnimals  OtherAnimalContact    PatientOutcome  \n",
      "1                 NaN                 NaN               NaN  \n",
      "2                 NaN                 NaN               NaN  \n",
      "3                 NaN                 NaN               NaN  \n",
      "4                 NaN                 NaN  Discharged Alive  \n",
      "\n",
      "[5 rows x 38 columns]\n"
     ]
    }
   ],
   "execution_count": 6
  },
  {
   "metadata": {
    "ExecuteTime": {
     "end_time": "2025-04-29T13:03:00.062373Z",
     "start_time": "2025-04-29T13:02:59.921462Z"
    }
   },
   "cell_type": "code",
   "source": "ls",
   "id": "cca73f5343cc7cf7",
   "outputs": [
    {
     "name": "stdout",
     "output_type": "stream",
     "text": [
      "data_modernization.ipynb  preprocess_data.ipynb\r\n"
     ]
    }
   ],
   "execution_count": 3
  },
  {
   "metadata": {},
   "cell_type": "code",
   "outputs": [],
   "execution_count": null,
   "source": "",
   "id": "dfe828801b992128"
  }
 ],
 "metadata": {
  "kernelspec": {
   "display_name": "Python 3",
   "language": "python",
   "name": "python3"
  },
  "language_info": {
   "codemirror_mode": {
    "name": "ipython",
    "version": 2
   },
   "file_extension": ".py",
   "mimetype": "text/x-python",
   "name": "python",
   "nbconvert_exporter": "python",
   "pygments_lexer": "ipython2",
   "version": "2.7.6"
  }
 },
 "nbformat": 4,
 "nbformat_minor": 5
}
